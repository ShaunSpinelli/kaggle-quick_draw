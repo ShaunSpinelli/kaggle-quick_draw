{
 "cells": [
  {
   "cell_type": "code",
   "execution_count": 1,
   "metadata": {
    "scrolled": true
   },
   "outputs": [
    {
     "name": "stderr",
     "output_type": "stream",
     "text": [
      "/home/ubuntu/anaconda3/envs/python3/lib/python3.6/site-packages/matplotlib/__init__.py:1067: UserWarning: Duplicate key in file \"/home/ubuntu/.config/matplotlib/matplotlibrc\", line #2\n",
      "  (fname, cnt))\n",
      "/home/ubuntu/anaconda3/envs/python3/lib/python3.6/site-packages/matplotlib/__init__.py:1067: UserWarning: Duplicate key in file \"/home/ubuntu/.config/matplotlib/matplotlibrc\", line #3\n",
      "  (fname, cnt))\n"
     ]
    }
   ],
   "source": [
    "%reload_ext autoreload\n",
    "%autoreload 2\n",
    "%matplotlib inline"
   ]
  },
  {
   "cell_type": "code",
   "execution_count": 2,
   "metadata": {
    "scrolled": true
   },
   "outputs": [],
   "source": [
    "from fastai.imports import *"
   ]
  },
  {
   "cell_type": "code",
   "execution_count": 3,
   "metadata": {},
   "outputs": [],
   "source": [
    "from fastai.dataset import *"
   ]
  },
  {
   "cell_type": "code",
   "execution_count": 4,
   "metadata": {},
   "outputs": [],
   "source": [
    "from fastai.conv_learner import *"
   ]
  },
  {
   "cell_type": "code",
   "execution_count": 5,
   "metadata": {},
   "outputs": [
    {
     "name": "stdout",
     "output_type": "stream",
     "text": [
      "images\tmodels\traw_data  tmp  train  train_simplified.zip  valid\r\n"
     ]
    }
   ],
   "source": [
    "! ls /home/ubuntu/data/kaggle"
   ]
  },
  {
   "cell_type": "code",
   "execution_count": 12,
   "metadata": {},
   "outputs": [],
   "source": [
    "PATH = Path(\"/home/ubuntu/data/kaggle\")"
   ]
  },
  {
   "cell_type": "code",
   "execution_count": 7,
   "metadata": {},
   "outputs": [
    {
     "ename": "ModuleNotFoundError",
     "evalue": "No module named 'split'",
     "output_type": "error",
     "traceback": [
      "\u001b[0;31m---------------------------------------------------------------------------\u001b[0m",
      "\u001b[0;31mModuleNotFoundError\u001b[0m                       Traceback (most recent call last)",
      "\u001b[0;32m<ipython-input-7-861c8b8f60f7>\u001b[0m in \u001b[0;36m<module>\u001b[0;34m()\u001b[0m\n\u001b[0;32m----> 1\u001b[0;31m \u001b[0;32mimport\u001b[0m \u001b[0msplit\u001b[0m\u001b[0;34m\u001b[0m\u001b[0m\n\u001b[0m\u001b[1;32m      2\u001b[0m \u001b[0;32mfrom\u001b[0m \u001b[0mpathlib\u001b[0m \u001b[0;32mimport\u001b[0m \u001b[0mPath\u001b[0m\u001b[0;34m\u001b[0m\u001b[0m\n",
      "\u001b[0;31mModuleNotFoundError\u001b[0m: No module named 'split'"
     ]
    }
   ],
   "source": [
    "import split\n",
    "from pathlib import Path"
   ]
  },
  {
   "cell_type": "code",
   "execution_count": 8,
   "metadata": {
    "scrolled": true
   },
   "outputs": [],
   "source": [
    "#split.main(PATH/\"images\")"
   ]
  },
  {
   "cell_type": "code",
   "execution_count": 9,
   "metadata": {},
   "outputs": [],
   "source": [
    "PATH = \"/home/ubuntu/data/'~'/data/\""
   ]
  },
  {
   "cell_type": "code",
   "execution_count": 10,
   "metadata": {},
   "outputs": [
    {
     "name": "stdout",
     "output_type": "stream",
     "text": [
      "\u001b[0m\u001b[01;34mtrain\u001b[0m/  \u001b[01;34mvalid\u001b[0m/\r\n"
     ]
    }
   ],
   "source": [
    "ls $PATH"
   ]
  },
  {
   "cell_type": "code",
   "execution_count": 10,
   "metadata": {},
   "outputs": [
    {
     "ename": "NameError",
     "evalue": "name 'resnext101s' is not defined",
     "output_type": "error",
     "traceback": [
      "\u001b[0;31m---------------------------------------------------------------------------\u001b[0m",
      "\u001b[0;31mNameError\u001b[0m                                 Traceback (most recent call last)",
      "\u001b[0;32m<ipython-input-10-dbaf8f4c338c>\u001b[0m in \u001b[0;36m<module>\u001b[0;34m()\u001b[0m\n\u001b[0;32m----> 1\u001b[0;31m \u001b[0march\u001b[0m\u001b[0;34m=\u001b[0m\u001b[0mresnext101s\u001b[0m\u001b[0;34m\u001b[0m\u001b[0m\n\u001b[0m\u001b[1;32m      2\u001b[0m \u001b[0msz\u001b[0m\u001b[0;34m=\u001b[0m\u001b[0;36m224\u001b[0m\u001b[0;34m\u001b[0m\u001b[0m\n",
      "\u001b[0;31mNameError\u001b[0m: name 'resnext101s' is not defined"
     ]
    }
   ],
   "source": [
    "arch=resnext101\n",
    "sz=224"
   ]
  },
  {
   "cell_type": "code",
   "execution_count": 12,
   "metadata": {
    "scrolled": true
   },
   "outputs": [
    {
     "name": "stdout",
     "output_type": "stream",
     "text": [
      "reading dirs\n",
      "reading dirs\n"
     ]
    }
   ],
   "source": [
    "\n",
    "data = ImageClassifierData.from_paths(PATH, tfms=tfms_from_model(arch, sz))"
   ]
  },
  {
   "cell_type": "code",
   "execution_count": 10,
   "metadata": {
    "scrolled": true
   },
   "outputs": [],
   "source": [
    "#data.val_ds[0]"
   ]
  },
  {
   "cell_type": "code",
   "execution_count": 13,
   "metadata": {
    "scrolled": false
   },
   "outputs": [
    {
     "name": "stdout",
     "output_type": "stream",
     "text": [
      "100%|██████████| 4250/4250 [20:50<00:00,  3.40it/s]\n",
      "100%|██████████| 1063/1063 [05:12<00:00,  3.40it/s]\n"
     ]
    }
   ],
   "source": [
    "learn = ConvLearner.pretrained(arch, data, precompute=True)"
   ]
  },
  {
   "cell_type": "code",
   "execution_count": 14,
   "metadata": {
    "scrolled": true
   },
   "outputs": [
    {
     "data": {
      "application/vnd.jupyter.widget-view+json": {
       "model_id": "6b235f4fb63f46f094b2bec82f88d6fb",
       "version_major": 2,
       "version_minor": 0
      },
      "text/html": [
       "<p>Failed to display Jupyter Widget of type <code>HBox</code>.</p>\n",
       "<p>\n",
       "  If you're reading this message in the Jupyter Notebook or JupyterLab Notebook, it may mean\n",
       "  that the widgets JavaScript is still loading. If this message persists, it\n",
       "  likely means that the widgets JavaScript library is either not installed or\n",
       "  not enabled. See the <a href=\"https://ipywidgets.readthedocs.io/en/stable/user_install.html\">Jupyter\n",
       "  Widgets Documentation</a> for setup instructions.\n",
       "</p>\n",
       "<p>\n",
       "  If you're reading this message in another frontend (for example, a static\n",
       "  rendering on GitHub or <a href=\"https://nbviewer.jupyter.org/\">NBViewer</a>),\n",
       "  it may mean that your frontend doesn't currently support widgets.\n",
       "</p>\n"
      ],
      "text/plain": [
       "HBox(children=(IntProgress(value=0, description='Epoch', max=1), HTML(value='')))"
      ]
     },
     "metadata": {},
     "output_type": "display_data"
    },
    {
     "name": "stdout",
     "output_type": "stream",
     "text": [
      " 81%|████████▏ | 3457/4250 [00:56<00:13, 60.70it/s, loss=13.6]"
     ]
    }
   ],
   "source": [
    "lrf=learn.lr_find()"
   ]
  },
  {
   "cell_type": "code",
   "execution_count": 13,
   "metadata": {
    "collapsed": true
   },
   "outputs": [
    {
     "data": {
      "image/png": "[encoded data removed]",
      "text/plain": [
       "<Figure size 432x288 with 1 Axes>"
      ]
     },
     "metadata": {},
     "output_type": "display_data"
    }
   ],
   "source": [
    "learn.sched.plot_lr()"
   ]
  },
  {
   "cell_type": "code",
   "execution_count": 15,
   "metadata": {
    "scrolled": true
   },
   "outputs": [
    {
     "data": {
      "image/png": "[encoded data removed]",
      "text/plain": [
       "<Figure size 432x288 with 1 Axes>"
      ]
     },
     "metadata": {},
     "output_type": "display_data"
    }
   ],
   "source": [
    "learn.sched.plot()"
   ]
  },
  {
   "cell_type": "code",
   "execution_count": 16,
   "metadata": {
    "scrolled": true
   },
   "outputs": [
    {
     "data": {
      "application/vnd.jupyter.widget-view+json": {
       "model_id": "d5b6aebc26b246d2ae87679fefa3a028",
       "version_major": 2,
       "version_minor": 0
      },
      "text/html": [
       "<p>Failed to display Jupyter Widget of type <code>HBox</code>.</p>\n",
       "<p>\n",
       "  If you're reading this message in the Jupyter Notebook or JupyterLab Notebook, it may mean\n",
       "  that the widgets JavaScript is still loading. If this message persists, it\n",
       "  likely means that the widgets JavaScript library is either not installed or\n",
       "  not enabled. See the <a href=\"https://ipywidgets.readthedocs.io/en/stable/user_install.html\">Jupyter\n",
       "  Widgets Documentation</a> for setup instructions.\n",
       "</p>\n",
       "<p>\n",
       "  If you're reading this message in another frontend (for example, a static\n",
       "  rendering on GitHub or <a href=\"https://nbviewer.jupyter.org/\">NBViewer</a>),\n",
       "  it may mean that your frontend doesn't currently support widgets.\n",
       "</p>\n"
      ],
      "text/plain": [
       "HBox(children=(IntProgress(value=0, description='Epoch', max=5), HTML(value='')))"
      ]
     },
     "metadata": {},
     "output_type": "display_data"
    },
    {
     "name": "stdout",
     "output_type": "stream",
     "text": [
      " 13%|█▎        | 569/4250 [00:08<00:56, 65.18it/s, loss=3.92] \n",
      " 14%|█▎        | 577/4250 [00:08<00:57, 64.23it/s, loss=3.89]"
     ]
    },
    {
     "name": "stderr",
     "output_type": "stream",
     "text": [
      "Exception in thread Thread-6:\n",
      "Traceback (most recent call last):\n",
      "  File \"/home/ubuntu/anaconda3/envs/python3/lib/python3.6/threading.py\", line 916, in _bootstrap_inner\n",
      "    self.run()\n",
      "  File \"/home/ubuntu/anaconda3/envs/python3/lib/python3.6/site-packages/tqdm/_monitor.py\", line 62, in run\n",
      "    for instance in self.tqdm_cls._instances:\n",
      "  File \"/home/ubuntu/anaconda3/envs/python3/lib/python3.6/_weakrefset.py\", line 60, in __iter__\n",
      "    for itemref in self.data:\n",
      "RuntimeError: Set changed size during iteration\n",
      "\n"
     ]
    },
    {
     "name": "stdout",
     "output_type": "stream",
     "text": [
      "epoch      trn_loss   val_loss   accuracy                     \n",
      "    0      2.693903   2.246286   0.482735  \n",
      "    1      2.529652   2.08284    0.517176                     \n",
      "    2      2.427324   2.006054   0.529309                     \n",
      "    3      2.303946   1.958784   0.542015                     \n",
      "    4      2.294984   1.930115   0.548412                     \n",
      "\n"
     ]
    },
    {
     "data": {
      "text/plain": [
       "[array([1.93011]), 0.5484117647058824]"
      ]
     },
     "execution_count": 16,
     "metadata": {},
     "output_type": "execute_result"
    }
   ],
   "source": [
    "learn.fit(0.01, 5)"
   ]
  },
  {
   "cell_type": "code",
   "execution_count": null,
   "metadata": {},
   "outputs": [],
   "source": [
    "#! ls /home/ubuntu/data/quick-draw/main/train/snake/"
   ]
  },
  {
   "cell_type": "code",
   "execution_count": 17,
   "metadata": {},
   "outputs": [
    {
     "data": {
      "application/vnd.jupyter.widget-view+json": {
       "model_id": "a1bbd2d055d843259809db98e6e989a3",
       "version_major": 2,
       "version_minor": 0
      },
      "text/html": [
       "<p>Failed to display Jupyter Widget of type <code>HBox</code>.</p>\n",
       "<p>\n",
       "  If you're reading this message in the Jupyter Notebook or JupyterLab Notebook, it may mean\n",
       "  that the widgets JavaScript is still loading. If this message persists, it\n",
       "  likely means that the widgets JavaScript library is either not installed or\n",
       "  not enabled. See the <a href=\"https://ipywidgets.readthedocs.io/en/stable/user_install.html\">Jupyter\n",
       "  Widgets Documentation</a> for setup instructions.\n",
       "</p>\n",
       "<p>\n",
       "  If you're reading this message in another frontend (for example, a static\n",
       "  rendering on GitHub or <a href=\"https://nbviewer.jupyter.org/\">NBViewer</a>),\n",
       "  it may mean that your frontend doesn't currently support widgets.\n",
       "</p>\n"
      ],
      "text/plain": [
       "HBox(children=(IntProgress(value=0, description='Epoch', max=3), HTML(value='')))"
      ]
     },
     "metadata": {},
     "output_type": "display_data"
    },
    {
     "name": "stdout",
     "output_type": "stream",
     "text": [
      "epoch      trn_loss   val_loss   accuracy                     \n",
      "    0      2.2514     1.900975   0.552691  \n",
      "    1      2.261041   1.885075   0.555176                     \n",
      "    2      2.249973   1.864747   0.559147                     \n",
      "\n"
     ]
    },
    {
     "data": {
      "text/plain": [
       "[array([1.86475]), 0.5591470588235294]"
      ]
     },
     "execution_count": 17,
     "metadata": {},
     "output_type": "execute_result"
    }
   ],
   "source": [
    "learn.fit(0.01, 3)"
   ]
  },
  {
   "cell_type": "code",
   "execution_count": null,
   "metadata": {},
   "outputs": [],
   "source": [
    "#! file /home/ubuntu/data/train/mouse/4708360907653120.jpeg"
   ]
  },
  {
   "cell_type": "code",
   "execution_count": 18,
   "metadata": {},
   "outputs": [],
   "source": [
    "learn.unfreeze()"
   ]
  },
  {
   "cell_type": "code",
   "execution_count": 19,
   "metadata": {},
   "outputs": [],
   "source": [
    "lr=np.array([1e-4,1e-3,1e-2])"
   ]
  },
  {
   "cell_type": "code",
   "execution_count": null,
   "metadata": {},
   "outputs": [
    {
     "data": {
      "application/vnd.jupyter.widget-view+json": {
       "model_id": "feb556f4e87c42d1adb341527c7c68dc",
       "version_major": 2,
       "version_minor": 0
      },
      "text/html": [
       "<p>Failed to display Jupyter Widget of type <code>HBox</code>.</p>\n",
       "<p>\n",
       "  If you're reading this message in the Jupyter Notebook or JupyterLab Notebook, it may mean\n",
       "  that the widgets JavaScript is still loading. If this message persists, it\n",
       "  likely means that the widgets JavaScript library is either not installed or\n",
       "  not enabled. See the <a href=\"https://ipywidgets.readthedocs.io/en/stable/user_install.html\">Jupyter\n",
       "  Widgets Documentation</a> for setup instructions.\n",
       "</p>\n",
       "<p>\n",
       "  If you're reading this message in another frontend (for example, a static\n",
       "  rendering on GitHub or <a href=\"https://nbviewer.jupyter.org/\">NBViewer</a>),\n",
       "  it may mean that your frontend doesn't currently support widgets.\n",
       "</p>\n"
      ],
      "text/plain": [
       "HBox(children=(IntProgress(value=0, description='Epoch', max=7), HTML(value='')))"
      ]
     },
     "metadata": {},
     "output_type": "display_data"
    },
    {
     "name": "stdout",
     "output_type": "stream",
     "text": [
      "epoch      trn_loss   val_loss   accuracy                     \n",
      "    0      2.126336   1.833728   0.567721  \n",
      "    1      2.143923   1.831695   0.567382                     \n",
      "  9%|▉         | 399/4250 [01:54<18:21,  3.50it/s, loss=2.09]"
     ]
    }
   ],
   "source": [
    "learn.fit(lr, 3, cycle_len=1, cycle_mult=2)"
   ]
  },
  {
   "cell_type": "code",
   "execution_count": 16,
   "metadata": {
    "scrolled": true
   },
   "outputs": [
    {
     "name": "stdout",
     "output_type": "stream",
     "text": [
      "airplane\t  cruise ship\t   line\t\t   shoe\r\n",
      "alarm clock\t  cup\t\t   lion\t\t   shorts\r\n",
      "ambulance\t  diamond\t   lipstick\t   shovel\r\n",
      "angel\t\t  dishwasher\t   lobster\t   sink\r\n",
      "animal migration  diving board\t   lollipop\t   skateboard\r\n",
      "ant\t\t  dog\t\t   mailbox\t   skull\r\n",
      "anvil\t\t  dolphin\t   map\t\t   skyscraper\r\n",
      "apple\t\t  donut\t\t   marker\t   sleeping bag\r\n",
      "arm\t\t  door\t\t   matches\t   smiley face\r\n",
      "asparagus\t  dragon\t   megaphone\t   snail\r\n",
      "axe\t\t  dresser\t   mermaid\t   snake\r\n",
      "backpack\t  drill\t\t   microphone\t   snorkel\r\n",
      "banana\t\t  drums\t\t   microwave\t   snowflake\r\n",
      "bandage\t\t  duck\t\t   monkey\t   snowman\r\n",
      "barn\t\t  dumbbell\t   moon\t\t   soccer ball\r\n",
      "baseball\t  ear\t\t   mosquito\t   sock\r\n",
      "baseball bat\t  elbow\t\t   motorbike\t   speedboat\r\n",
      "basket\t\t  elephant\t   mountain\t   spider\r\n",
      "basketball\t  envelope\t   mouse\t   spoon\r\n",
      "bat\t\t  eraser\t   moustache\t   spreadsheet\r\n",
      "bathtub\t\t  eye\t\t   mouth\t   square\r\n",
      "beach\t\t  eyeglasses\t   mug\t\t   squiggle\r\n",
      "bear\t\t  face\t\t   mushroom\t   squirrel\r\n",
      "beard\t\t  fan\t\t   nail\t\t   stairs\r\n",
      "bed\t\t  feather\t   necklace\t   star\r\n",
      "bee\t\t  fence\t\t   nose\t\t   steak\r\n",
      "belt\t\t  finger\t   ocean\t   stereo\r\n",
      "bench\t\t  fire hydrant\t   octagon\t   stethoscope\r\n",
      "bicycle\t\t  fireplace\t   octopus\t   stitches\r\n",
      "binoculars\t  firetruck\t   onion\t   stop sign\r\n",
      "bird\t\t  fish\t\t   oven\t\t   stove\r\n",
      "birthday cake\t  flamingo\t   owl\t\t   strawberry\r\n",
      "blackberry\t  flashlight\t   paintbrush\t   streetlight\r\n",
      "blueberry\t  flip flops\t   paint can\t   string bean\r\n",
      "book\t\t  floor lamp\t   palm tree\t   submarine\r\n",
      "boomerang\t  flower\t   panda\t   suitcase\r\n",
      "bottlecap\t  flying saucer    pants\t   sun\r\n",
      "bowtie\t\t  foot\t\t   paper clip\t   swan\r\n",
      "bracelet\t  fork\t\t   parachute\t   sweater\r\n",
      "brain\t\t  frog\t\t   parrot\t   swing set\r\n",
      "bread\t\t  frying pan\t   passport\t   sword\r\n",
      "bridge\t\t  garden\t   peanut\t   table\r\n",
      "broccoli\t  garden hose\t   pear\t\t   teapot\r\n",
      "broom\t\t  giraffe\t   peas\t\t   teddy-bear\r\n",
      "bucket\t\t  goatee\t   pencil\t   telephone\r\n",
      "bulldozer\t  golf club\t   penguin\t   television\r\n",
      "bus\t\t  grapes\t   piano\t   tennis racquet\r\n",
      "bush\t\t  grass\t\t   pickup truck    tent\r\n",
      "butterfly\t  guitar\t   picture frame   The Eiffel Tower\r\n",
      "cactus\t\t  hamburger\t   pig\t\t   The Great Wall of China\r\n",
      "cake\t\t  hammer\t   pillow\t   The Mona Lisa\r\n",
      "calculator\t  hand\t\t   pineapple\t   tiger\r\n",
      "calendar\t  harp\t\t   pizza\t   toaster\r\n",
      "camel\t\t  hat\t\t   pliers\t   toe\r\n",
      "camera\t\t  headphones\t   police car\t   toilet\r\n",
      "camouflage\t  hedgehog\t   pond\t\t   tooth\r\n",
      "campfire\t  helicopter\t   pool\t\t   toothbrush\r\n",
      "candle\t\t  helmet\t   popsicle\t   toothpaste\r\n",
      "cannon\t\t  hexagon\t   postcard\t   tornado\r\n",
      "canoe\t\t  hockey puck\t   potato\t   tractor\r\n",
      "car\t\t  hockey stick\t   power outlet    traffic light\r\n",
      "carrot\t\t  horse\t\t   purse\t   train\r\n",
      "castle\t\t  hospital\t   rabbit\t   tree\r\n",
      "cat\t\t  hot air balloon  raccoon\t   triangle\r\n",
      "ceiling fan\t  hot dog\t   radio\t   trombone\r\n",
      "cello\t\t  hot tub\t   rain\t\t   truck\r\n",
      "cell phone\t  hourglass\t   rainbow\t   trumpet\r\n",
      "chair\t\t  house\t\t   rake\t\t   t-shirt\r\n",
      "chandelier\t  house plant\t   remote control  umbrella\r\n",
      "church\t\t  hurricane\t   rhinoceros\t   underwear\r\n",
      "circle\t\t  ice cream\t   river\t   van\r\n",
      "clarinet\t  jacket\t   roller coaster  vase\r\n",
      "clock\t\t  jail\t\t   rollerskates    violin\r\n",
      "cloud\t\t  kangaroo\t   sailboat\t   washing machine\r\n",
      "coffee cup\t  key\t\t   sandwich\t   watermelon\r\n",
      "compass\t\t  keyboard\t   saw\t\t   waterslide\r\n",
      "computer\t  knee\t\t   saxophone\t   whale\r\n",
      "cookie\t\t  ladder\t   school bus\t   wheel\r\n",
      "cooler\t\t  lantern\t   scissors\t   windmill\r\n",
      "couch\t\t  laptop\t   scorpion\t   wine bottle\r\n",
      "cow\t\t  leaf\t\t   screwdriver\t   wine glass\r\n",
      "crab\t\t  leg\t\t   sea turtle\t   wristwatch\r\n",
      "crayon\t\t  light bulb\t   see saw\t   yoga\r\n",
      "crocodile\t  lighthouse\t   shark\t   zebra\r\n",
      "crown\t\t  lightning\t   sheep\t   zigzag\r\n"
     ]
    }
   ],
   "source": [
    "! ls $PATH/train/ant"
   ]
  },
  {
   "cell_type": "code",
   "execution_count": 39,
   "metadata": {},
   "outputs": [],
   "source": [
    "files = os.listdir(f'{PATH}/train/dog')[:3]"
   ]
  },
  {
   "cell_type": "code",
   "execution_count": 40,
   "metadata": {},
   "outputs": [
    {
     "data": {
      "text/plain": [
       "['6469251361669120.jpeg', '5192025462800384.jpeg', '4654442311843840.jpeg']"
      ]
     },
     "execution_count": 40,
     "metadata": {},
     "output_type": "execute_result"
    }
   ],
   "source": [
    "files"
   ]
  },
  {
   "cell_type": "code",
   "execution_count": 42,
   "metadata": {},
   "outputs": [],
   "source": [
    "img = plt.imread(f'{PATH}/train/dog/{files[1]}')"
   ]
  },
  {
   "cell_type": "code",
   "execution_count": 43,
   "metadata": {},
   "outputs": [
    {
     "data": {
      "text/plain": [
       "<matplotlib.image.AxesImage at 0x7fa764317e80>"
      ]
     },
     "execution_count": 43,
     "metadata": {},
     "output_type": "execute_result"
    },
    {
     "data": {
      "image/png": "[encoded data removed]",
      "text/plain": [
       "<Figure size 432x288 with 1 Axes>"
      ]
     },
     "metadata": {},
     "output_type": "display_data"
    }
   ],
   "source": [
    "plt.imshow(img)"
   ]
  },
  {
   "cell_type": "code",
   "execution_count": 13,
   "metadata": {},
   "outputs": [],
   "source": [
    "import numpy as np"
   ]
  },
  {
   "cell_type": "code",
   "execution_count": 14,
   "metadata": {
    "collapsed": true
   },
   "outputs": [
    {
     "name": "stdout",
     "output_type": "stream",
     "text": [
      "9000003627287624.jpeg  9003010586159620.jpeg  9006037667966537.jpeg\r\n",
      "9000010688666847.jpeg  9003048442875527.jpeg  9006040646802881.jpeg\r\n",
      "9000023642890129.jpeg  9003052648707845.jpeg  9006041644523530.jpeg\r\n",
      "9000038588854897.jpeg  9003062625131908.jpeg  9006051665415863.jpeg\r\n",
      "9000052667981386.jpeg  9003066569800461.jpeg  9006055508482209.jpeg\r\n",
      "9000057427034623.jpeg  9003070567394985.jpeg  9006070642438356.jpeg\r\n",
      "9000065506980882.jpeg  9003072504648951.jpeg  9006101661210035.jpeg\r\n",
      "9000087586309806.jpeg  9003077461676559.jpeg  9006117484402966.jpeg\r\n",
      "9000092580281382.jpeg  9003086588012963.jpeg  9006118482123615.jpeg\r\n",
      "9000096661653918.jpeg  9003092506522707.jpeg  9006120565833247.jpeg\r\n",
      "9000102548572430.jpeg  9003100521390311.jpeg  9006124663533639.jpeg\r\n",
      "9000109525154374.jpeg  9003101602344745.jpeg  9006132506796617.jpeg\r\n",
      "9000117423882596.jpeg  9003111506357779.jpeg  9006148527435352.jpeg\r\n",
      "9000118400618039.jpeg  9003111600675671.jpeg  9006150508617443.jpeg\r\n",
      "9000119463725679.jpeg  9003184548749228.jpeg  9006154567542420.jpeg\r\n",
      "9000156567772007.jpeg  9003185546481724.jpeg  9006159569656326.jpeg\r\n",
      "9000159584429954.jpeg  9003185688835256.jpeg  9006160500658144.jpeg\r\n",
      "9000161602785100.jpeg  9003186661060024.jpeg  9006168488200139.jpeg\r\n",
      "9000182604013479.jpeg  9003196444548057.jpeg  9006171504644587.jpeg\r\n",
      "9000183669464573.jpeg  9003215429756481.jpeg  9006186488854644.jpeg\r\n",
      "9000187440516076.jpeg  9003218506106485.jpeg  9006198482581140.jpeg\r\n",
      "9000193525342977.jpeg  9003234561862246.jpeg  9006216429121320.jpeg\r\n",
      "9000198400086554.jpeg  9003236540930059.jpeg  9006216563385960.jpeg\r\n",
      "9000202569048083.jpeg  9003237406129823.jpeg  9006216584214591.jpeg\r\n",
      "9000206448363150.jpeg  9003266421331848.jpeg  9006225502131878.jpeg\r\n",
      "9000234529125713.jpeg  9003275444548260.jpeg  9006236625952752.jpeg\r\n",
      "9000235467185830.jpeg  9003277565079595.jpeg  9006238469048402.jpeg\r\n",
      "9000255623069766.jpeg  9003283682108466.jpeg  9006241588626160.jpeg\r\n",
      "9000256502783283.jpeg  9003287444586649.jpeg  9006242504686323.jpeg\r\n",
      "9000277442812262.jpeg  9003310667561896.jpeg  9006243525958478.jpeg\r\n",
      "9000277563368811.jpeg  9003315561847036.jpeg  9006275446270792.jpeg\r\n",
      "9000280688246705.jpeg  9003333523821114.jpeg  9006284644316917.jpeg\r\n",
      "9000281561843445.jpeg  9003349500002578.jpeg  9006291540702968.jpeg\r\n",
      "9000281644143716.jpeg  9003354623086050.jpeg  9006292646272041.jpeg\r\n",
      "9000292525971382.jpeg  9003363584801165.jpeg  9006293629397709.jpeg\r\n",
      "9000293606925717.jpeg  9003369404078215.jpeg  9006305465609747.jpeg\r\n",
      "9000295448321106.jpeg  9003373665453020.jpeg  9006319446405300.jpeg\r\n",
      "9000297423888044.jpeg  9003388584210799.jpeg  9006336544989864.jpeg\r\n",
      "9000302684801961.jpeg  9003399527431763.jpeg  9006384600407426.jpeg\r\n",
      "9000305542854882.jpeg  9003401606735029.jpeg  9006391588495378.jpeg\r\n",
      "9000331588476138.jpeg  9003402688850886.jpeg  9006392680456676.jpeg\r\n",
      "9000333629927348.jpeg  9003407444392368.jpeg  9006398406374276.jpeg\r\n",
      "9000335621713143.jpeg  9003410623652306.jpeg  9006421548760271.jpeg\r\n",
      "9000337402323494.jpeg  9003429465280665.jpeg  9006426440366040.jpeg\r\n",
      "9000344665837429.jpeg  9003441569840116.jpeg  9006442686151838.jpeg\r\n",
      "9000348440955351.jpeg  9003448523804068.jpeg  9006448444926580.jpeg\r\n",
      "9000361563195829.jpeg  9003461500080249.jpeg  9006470548538085.jpeg\r\n",
      "9000365429792904.jpeg  9003462565898808.jpeg  9006472544924645.jpeg\r\n",
      "9000375484210103.jpeg  9003475465641036.jpeg  9006530629507624.jpeg\r\n",
      "9000391686579935.jpeg  9003487508022289.jpeg  9006531602722491.jpeg\r\n",
      "9000413523441165.jpeg  9003502665879817.jpeg  9006537469485486.jpeg\r\n",
      "9000420504057781.jpeg  9003526563328153.jpeg  9006545648971431.jpeg\r\n",
      "9000431661425288.jpeg  9003541606541525.jpeg  9006552548977157.jpeg\r\n",
      "9000451680606033.jpeg  9003565444396715.jpeg  9006553567527427.jpeg\r\n",
      "9000455640531010.jpeg  9003568484672422.jpeg  9006580525511918.jpeg\r\n",
      "9000466429773550.jpeg  9003569529378125.jpeg  9006607682961369.jpeg\r\n",
      "9000468523086039.jpeg  9003586567181401.jpeg  9006617588685412.jpeg\r\n",
      "9000471644375806.jpeg  9003615521713544.jpeg  9006618404017889.jpeg\r\n",
      "9000473504686321.jpeg  9003616404220284.jpeg  9006632582165036.jpeg\r\n",
      "9000485604243837.jpeg  9003627446441258.jpeg  9006635406583191.jpeg\r\n",
      "9000491663577318.jpeg  9003629463744681.jpeg  9006645565229182.jpeg\r\n",
      "9000497423063288.jpeg  9003646686364912.jpeg  9006655646840489.jpeg\r\n",
      "9000527546610235.jpeg  9003650608488195.jpeg  9006672686552312.jpeg\r\n",
      "9000540600886451.jpeg  9003653521907251.jpeg  9006674640113486.jpeg\r\n",
      "9000550661693875.jpeg  9003654584003144.jpeg  9006698448912928.jpeg\r\n",
      "9000551625789668.jpeg  9003677544580353.jpeg  9006707567352958.jpeg\r\n",
      "9000561667588865.jpeg  9003706625958280.jpeg  9006713529397557.jpeg\r\n",
      "9000569527667440.jpeg  9003709423251670.jpeg  9006716648551398.jpeg\r\n",
      "9000577446213536.jpeg  9003724527249222.jpeg  9006716661279280.jpeg\r\n",
      "9000586580097364.jpeg  9003732580070716.jpeg  9006717686151201.jpeg\r\n",
      "9000592629902441.jpeg  9003735480870889.jpeg  9006722600696987.jpeg\r\n",
      "9000595623040417.jpeg  9003736584442216.jpeg  9006730667907498.jpeg\r\n",
      "9000616665497923.jpeg  9003751606758614.jpeg  9006735648192863.jpeg\r\n",
      "9000665665286594.jpeg  9003758540976036.jpeg  9006739400692704.jpeg\r\n",
      "9000668506923417.jpeg  9003764561064229.jpeg  9006746469270809.jpeg\r\n",
      "9000675500257035.jpeg  9003785442856597.jpeg  9006748569863513.jpeg\r\n",
      "9000676482754765.jpeg  9003808540303710.jpeg  9006755427034834.jpeg\r\n",
      "9000694646842996.jpeg  9003825586383120.jpeg  9006786469449192.jpeg\r\n",
      "9000712606100178.jpeg  9003832546082972.jpeg  9006789482507043.jpeg\r\n",
      "9000718546274191.jpeg  9003837686930636.jpeg  9006800502325900.jpeg\r\n",
      "9000769423614782.jpeg  9003855402321532.jpeg  9006803584446012.jpeg\r\n",
      "9000784523002669.jpeg  9003855446867055.jpeg  9006809425511135.jpeg\r\n",
      "9000785482980318.jpeg  9003882584440798.jpeg  9006809469046980.jpeg\r\n",
      "9000793604201000.jpeg  9003895544943448.jpeg  9006813621542453.jpeg\r\n",
      "9000827567339265.jpeg  9003906427608388.jpeg  9006814621985977.jpeg\r\n",
      "9000836580667435.jpeg  9003906500008659.jpeg  9006817648532935.jpeg\r\n",
      "9000839404074833.jpeg  9003908484847560.jpeg  9006837688662078.jpeg\r\n",
      "9000851684655186.jpeg  9003947546065827.jpeg  9006845521926056.jpeg\r\n",
      "9000857525720200.jpeg  9003959542472783.jpeg  9006858448918688.jpeg\r\n",
      "9000876508043918.jpeg  9003992625762279.jpeg  9006859484885715.jpeg\r\n",
      "9000879465018596.jpeg  9003995406737703.jpeg  9006861548388834.jpeg\r\n",
      "9000881686592634.jpeg  9004003600863647.jpeg  9006868508632022.jpeg\r\n",
      "9000886644160027.jpeg  9004008427059731.jpeg  9006878429984560.jpeg\r\n",
      "9000887506739036.jpeg  9004008569403363.jpeg  9006887567358406.jpeg\r\n",
      "9000895584087168.jpeg  9004017508258171.jpeg  9006888427226496.jpeg\r\n",
      "9000919523274868.jpeg  9004017667920550.jpeg  9006892542647805.jpeg\r\n",
      "9000925682148134.jpeg  9004022644941735.jpeg  9006897523844937.jpeg\r\n",
      "9000928467791874.jpeg  9004025544730151.jpeg  9006906629566975.jpeg\r\n",
      "9000937429165674.jpeg  9004026427247781.jpeg  9006908446088061.jpeg\r\n",
      "9000937682144108.jpeg  9004052684024813.jpeg  9006912602519448.jpeg\r\n",
      "9000939482794091.jpeg  9004059523821342.jpeg  9006916429351118.jpeg\r\n",
      "9000941625196992.jpeg  9004060504680666.jpeg  9006925584043800.jpeg\r\n",
      "9000945442039562.jpeg  9004065506794562.jpeg  9006939444314461.jpeg\r\n",
      "9000948521168927.jpeg  9004066642202483.jpeg  9006970569443018.jpeg\r\n",
      "9000972621166091.jpeg  9004072521926054.jpeg  9006979523827444.jpeg\r\n",
      "9000979546255529.jpeg  9004078461001177.jpeg  9007000602156121.jpeg\r\n",
      "9001005680897035.jpeg  9004083627439171.jpeg  9007009482967066.jpeg\r\n",
      "9001009421379344.jpeg  9004084561801281.jpeg  9007012500656078.jpeg\r\n",
      "9001010644101328.jpeg  9004088586199545.jpeg  9007053525785615.jpeg\r\n",
      "9001023500407823.jpeg  9004089580222286.jpeg  9007060529921090.jpeg\r\n",
      "9001047463309546.jpeg  9004104582986642.jpeg  9007062629524794.jpeg\r\n",
      "9001049521166855.jpeg  9004110521314359.jpeg  9007095446061641.jpeg\r\n",
      "9001054582758920.jpeg  9004128584653870.jpeg  9007096504496093.jpeg\r\n",
      "9001060606186036.jpeg  9004150582336355.jpeg  9007101684809901.jpeg\r\n",
      "9001066544540031.jpeg  9004151542833131.jpeg  9007105584062609.jpeg\r\n",
      "9001070648954575.jpeg  9004151580099419.jpeg  9007108523637197.jpeg\r\n",
      "9001075661007003.jpeg  9004154646401981.jpeg  9007111621396225.jpeg\r\n",
      "9001090629921457.jpeg  9004159461085957.jpeg  9007122508446774.jpeg\r\n",
      "9001094523863162.jpeg  9004170661231993.jpeg  9007128482167311.jpeg\r\n",
      "9001103504450435.jpeg  9004172669238581.jpeg  9007140521373474.jpeg\r\n",
      "9001103602367344.jpeg  9004173667960097.jpeg  9007143642248234.jpeg\r\n",
      "9001104661864120.jpeg  9004189469213640.jpeg  9007144502116225.jpeg\r\n",
      "9001111582798467.jpeg  9004206688438361.jpeg  9007198500409918.jpeg\r\n",
      "9001117440191347.jpeg  9004208425513857.jpeg  9007202544335771.jpeg\r\n",
      "9001126582144399.jpeg  9004212540934275.jpeg  9007203586592043.jpeg\r\n",
      "9001135600690461.jpeg  9004224580819303.jpeg  9007213602781511.jpeg\r\n",
      "9001135644147974.jpeg  9004241625749137.jpeg  9007217400082528.jpeg\r\n",
      "9001145642478801.jpeg  9004249463381153.jpeg  9007218569631866.jpeg\r\n",
      "9001149508085985.jpeg  9004252682587839.jpeg  9007255406100995.jpeg\r\n",
      "9001165646063774.jpeg  9004255667398302.jpeg  9007284586305092.jpeg\r\n",
      "9001172561676139.jpeg  9004271540765881.jpeg  9007312504057342.jpeg\r\n",
      "9001184502530609.jpeg  9004273623061596.jpeg  9007313646865156.jpeg\r\n",
      "9001187446886295.jpeg  9004275608429435.jpeg  9007320527832097.jpeg\r\n",
      "9001193686706378.jpeg  9004302529501712.jpeg  9007322508611919.jpeg\r\n",
      "9001194627629086.jpeg  9004306648139635.jpeg  9007323540999838.jpeg\r\n",
      "9001212640740374.jpeg  9004307427496716.jpeg  9007331642474099.jpeg\r\n",
      "9001215423069361.jpeg  9004310542495367.jpeg  9007339423842401.jpeg\r\n",
      "9001232540117246.jpeg  9004316680017184.jpeg  9007342582376808.jpeg\r\n",
      "9001262529336702.jpeg  9004332569673899.jpeg  9007345440341586.jpeg\r\n",
      "9001265606754058.jpeg  9004334561469594.jpeg  9007350508862671.jpeg\r\n",
      "9001272506750864.jpeg  9004341608068492.jpeg  9007355488430919.jpeg\r\n",
      "9001276588204733.jpeg  9004343682526431.jpeg  9007361642601429.jpeg\r\n",
      "9001295500863839.jpeg  9004346546880345.jpeg  9007365563761980.jpeg\r\n",
      "9001300508885485.jpeg  9004360525300796.jpeg  9007366469886513.jpeg\r\n",
      "9001316506984471.jpeg  9004360569846210.jpeg  9007369408461102.jpeg\r\n",
      "9001331640930629.jpeg  9004360669464347.jpeg  9007377504646028.jpeg\r\n",
      "9001350546253202.jpeg  9004375402954317.jpeg  9007401580492375.jpeg\r\n",
      "9001360648724787.jpeg  9004377484087791.jpeg  9007414540917772.jpeg\r\n",
      "9001373561294897.jpeg  9004385444109321.jpeg  9007431684847507.jpeg\r\n",
      "9001375682716133.jpeg  9004385680870845.jpeg  9007444684218752.jpeg\r\n",
      "9001380667926299.jpeg  9004389465432113.jpeg  9007455669274221.jpeg\r\n",
      "9001381502308200.jpeg  9004391565816309.jpeg  9007464608020139.jpeg\r\n",
      "9001386488265772.jpeg  9004397521147845.jpeg  9007485600468066.jpeg\r\n",
      "9001390684296001.jpeg  9004413669297474.jpeg  9007507546251934.jpeg\r\n",
      "9001405406319502.jpeg  9004414525597016.jpeg  9007528427032555.jpeg\r\n",
      "9001406688879710.jpeg  9004421506182084.jpeg  9007529506374861.jpeg\r\n",
      "9001410561239578.jpeg  9004432608007094.jpeg  9007533527498045.jpeg\r\n",
      "9001410688075462.jpeg  9004441548914236.jpeg  9007537482184462.jpeg\r\n",
      "9001415586951566.jpeg  9004448563721890.jpeg  9007539423027545.jpeg\r\n",
      "9001429544128379.jpeg  9004450561231748.jpeg  9007541688016780.jpeg\r\n",
      "9001432648110157.jpeg  9004463667719442.jpeg  9007554506108323.jpeg\r\n",
      "9001433586170274.jpeg  9004465527051715.jpeg  9007555406923810.jpeg\r\n",
      "9001439586917576.jpeg  9004482563153872.jpeg  9007574646846583.jpeg\r\n",
      "9001444623610140.jpeg  9004519423021232.jpeg  9007581606524688.jpeg\r\n",
      "9001446444187897.jpeg  9004527529184490.jpeg  9007590684294587.jpeg\r\n",
      "9001452586723407.jpeg  9004529548198942.jpeg  9007598467373027.jpeg\r\n",
      "9001468563972114.jpeg  9004550686993536.jpeg  9007599521109694.jpeg\r\n",
      "9001485604224821.jpeg  9004566663174990.jpeg  9007600542077508.jpeg\r\n",
      "9001495625173749.jpeg  9004588542609675.jpeg  9007600629988301.jpeg\r\n",
      "9001537404289641.jpeg  9004594608862276.jpeg  9007605467103126.jpeg\r\n",
      "9001537661868939.jpeg  9004596621565835.jpeg  9007646482332762.jpeg\r\n",
      "9001539461429823.jpeg  9004596682330215.jpeg  9007647408292925.jpeg\r\n",
      "9001548440199722.jpeg  9004617602190596.jpeg  9007648529716543.jpeg\r\n",
      "9001554588852118.jpeg  9004626563915502.jpeg  9007665404891868.jpeg\r\n",
      "9001570548302191.jpeg  9004631527228794.jpeg  9007666688073105.jpeg\r\n",
      "9001570669848740.jpeg  9004671682589350.jpeg  9007707408630906.jpeg\r\n",
      "9001573561469932.jpeg  9004695408617658.jpeg  9007736500863624.jpeg\r\n",
      "9001573686594708.jpeg  9004697586381831.jpeg  9007738540784059.jpeg\r\n",
      "9001589525912415.jpeg  9004711644795944.jpeg  9007757425918300.jpeg\r\n",
      "9001595565039482.jpeg  9004717688098869.jpeg  9007782621759985.jpeg\r\n",
      "9001636608210278.jpeg  9004721644759656.jpeg  9007782682524365.jpeg\r\n",
      "9001641621755955.jpeg  9004725669048020.jpeg  9007788588052865.jpeg\r\n",
      "9001641627076848.jpeg  9004749423401058.jpeg  9007816661887396.jpeg\r\n",
      "9001643586387363.jpeg  9004752544799725.jpeg  9007827680490478.jpeg\r\n",
      "9001648484273467.jpeg  9004762527435770.jpeg  9007836565854133.jpeg\r\n",
      "9001660648536944.jpeg  9004764600800728.jpeg  9007837602340396.jpeg\r\n",
      "9001674684885983.jpeg  9004765500635125.jpeg  9007844506946877.jpeg\r\n",
      "9001675440535082.jpeg  9004774665227817.jpeg  9007865529102778.jpeg\r\n",
      "9001679461235339.jpeg  9004781669420877.jpeg  9007879446616187.jpeg\r\n",
      "9001689548177429.jpeg  9004795502551915.jpeg  9007879588079600.jpeg\r\n",
      "9001703623800498.jpeg  9004835508235789.jpeg  9007895621757263.jpeg\r\n",
      "9001723669230757.jpeg  9004846480874474.jpeg  9007918404899040.jpeg\r\n",
      "9001731627640268.jpeg  9004847527281395.jpeg  9007936400409973.jpeg\r\n",
      "9001743606750026.jpeg  9004850569869809.jpeg  9007948506355625.jpeg\r\n",
      "9001749425388380.jpeg  9004853648998273.jpeg  9007950623690113.jpeg\r\n",
      "9001753561638320.jpeg  9004854688476174.jpeg  9007951548933248.jpeg\r\n",
      "9001757544181398.jpeg  9004865582923723.jpeg  9007954604454611.jpeg\r\n",
      "9001764542016771.jpeg  9004870540936780.jpeg  9007956688812659.jpeg\r\n",
      "9001766567310568.jpeg  9004883506771180.jpeg  9007976506507387.jpeg\r\n",
      "9001775665837655.jpeg  9004893686303387.jpeg  9007988588227900.jpeg\r\n",
      "9001781529944687.jpeg  9004918506395500.jpeg  9007990546869351.jpeg\r\n",
      "9001793606982112.jpeg  9004921621394151.jpeg  9007999404680432.jpeg\r\n",
      "9001796529399410.jpeg  9004936425994308.jpeg  9008010663934539.jpeg\r\n",
      "9001800529790418.jpeg  9004937423637704.jpeg  9008014563197137.jpeg\r\n",
      "9001805427686412.jpeg  9004939502344302.jpeg  9008015506355498.jpeg\r\n",
      "9001806602937090.jpeg  9004942663113362.jpeg  9008026629108030.jpeg\r\n",
      "9001824508807149.jpeg  9004945446422459.jpeg  9008027442012724.jpeg\r\n",
      "9001832625910786.jpeg  9004971521987452.jpeg  9008040604095959.jpeg\r\n",
      "9001838544187836.jpeg  9004978421569251.jpeg  9008045502971063.jpeg\r\n",
      "9001846580680573.jpeg  9004983561841922.jpeg  9008054525110233.jpeg\r\n",
      "9001852502768666.jpeg  9004992584089002.jpeg  9008071608275687.jpeg\r\n",
      "9001853529330057.jpeg  9004996400840438.jpeg  9008075504819411.jpeg\r\n",
      "9001870686978763.jpeg  9004996500489123.jpeg  9008076408254772.jpeg\r\n",
      "9001908525559644.jpeg  9005000580669142.jpeg  9008079567354262.jpeg\r\n",
      "9001919567791475.jpeg  9005000684887044.jpeg  9008101663951473.jpeg\r\n",
      "9001920582165897.jpeg  9005004561402092.jpeg  9008110525707146.jpeg\r\n",
      "9001930525954005.jpeg  9005021563978294.jpeg  9008117546825693.jpeg\r\n",
      "9001938484043679.jpeg  9005040580838526.jpeg  9008158529129745.jpeg\r\n",
      "9001947588839244.jpeg  9005043580287484.jpeg  9008165500825471.jpeg\r\n",
      "9001979488244694.jpeg  9005045680870298.jpeg  9008185563573596.jpeg\r\n",
      "9001988488854872.jpeg  9005046688413694.jpeg  9008186588413002.jpeg\r\n",
      "9001995404095364.jpeg  9005056446483099.jpeg  9008215642683920.jpeg\r\n",
      "9001996661028186.jpeg  9005057423297864.jpeg  9008215665202912.jpeg\r\n",
      "9002001584889745.jpeg  9005057688453366.jpeg  9008233567504611.jpeg\r\n",
      "9002015565685308.jpeg  9005059546420328.jpeg  9008238404625345.jpeg\r\n",
      "9002016684843705.jpeg  9005075467922438.jpeg  9008255648152549.jpeg\r\n",
      "9002025482317324.jpeg  9005084540953644.jpeg  9008258446445839.jpeg\r\n",
      "9002025586535226.jpeg  9005093529524543.jpeg  9008261527897867.jpeg\r\n",
      "9002035540341396.jpeg  9005117565031882.jpeg  9008276600654728.jpeg\r\n",
      "9002049586590336.jpeg  9005153523692056.jpeg  9008294661617058.jpeg\r\n",
      "9002056400236791.jpeg  9005153604281209.jpeg  9008311580878291.jpeg\r\n",
      "9002057580268478.jpeg  9005154608235597.jpeg  9008314606332268.jpeg\r\n",
      "9002057606393244.jpeg  9005177546276058.jpeg  9008316504811819.jpeg\r\n",
      "9002060525557110.jpeg  9005193644318098.jpeg  9008325444738950.jpeg\r\n",
      "9002061588664750.jpeg  9005216523489885.jpeg  9008326442459609.jpeg\r\n",
      "9002097529583240.jpeg  9005216544396759.jpeg  9008328565681162.jpeg\r\n",
      "9002116623637115.jpeg  9005225665432938.jpeg  9008334621945653.jpeg\r\n",
      "9002117540780468.jpeg  9005252584630266.jpeg  9008349548990215.jpeg\r\n",
      "9002117584216224.jpeg  9005255602916909.jpeg  9008352644772353.jpeg\r\n",
      "9002120584089000.jpeg  9005260565668659.jpeg  9008355648701329.jpeg\r\n",
      "9002122546808398.jpeg  9005268502747379.jpeg  9008375482184029.jpeg\r\n",
      "9002134686301653.jpeg  9005269429790623.jpeg  9008375586303911.jpeg\r\n",
      "9002136582167338.jpeg  9005276465850736.jpeg  9008376688284976.jpeg\r\n",
      "9002142506967307.jpeg  9005285548760294.jpeg  9008388463537057.jpeg\r\n",
      "9002143646063335.jpeg  9005289508695171.jpeg  9008403669069100.jpeg\r\n",
      "9002146465263598.jpeg  9005302525992698.jpeg  9008409500213565.jpeg\r\n",
      "9002160627602016.jpeg  9005316500487268.jpeg  9008412521983215.jpeg\r\n",
      "9002171602768474.jpeg  9005331561022487.jpeg  9008465461862223.jpeg\r\n",
      "9002175486765649.jpeg  9005349563596539.jpeg  9008474669886789.jpeg\r\n",
      "9002204608273303.jpeg  9005349567107304.jpeg  9008489406353198.jpeg\r\n",
      "9002205588415722.jpeg  9005350669481629.jpeg  9008491627817478.jpeg\r\n",
      "9002208446489301.jpeg  9005353606167461.jpeg  9008497486303349.jpeg\r\n",
      "9002256400489188.jpeg  9005361629921459.jpeg  9008515544588187.jpeg\r\n",
      "9002285627627905.jpeg  9005364602152551.jpeg  9008532602116246.jpeg\r\n",
      "9002295523462815.jpeg  9005385527479685.jpeg  9008534582376040.jpeg\r\n",
      "9002296461423932.jpeg  9005389404093634.jpeg  9008539584469288.jpeg\r\n",
      "9002329408408944.jpeg  9005411586993511.jpeg  9008549467586107.jpeg\r\n",
      "9002332508889857.jpeg  9005422506585835.jpeg  9008551563993063.jpeg\r\n",
      "9002334542499399.jpeg  9005428402135003.jpeg  9008555588204184.jpeg\r\n",
      "9002355669863192.jpeg  9005437506942425.jpeg  9008562582507045.jpeg\r\n",
      "9002362586119323.jpeg  9005446529169837.jpeg  9008567480492149.jpeg\r\n",
      "9002368580644832.jpeg  9005454642683377.jpeg  9008576480013327.jpeg\r\n",
      "9002407529501391.jpeg  9005464667143060.jpeg  9008579463113761.jpeg\r\n",
      "9002420506798130.jpeg  9005470548578749.jpeg  9008589402302104.jpeg\r\n",
      "9002433621316809.jpeg  9005476684488448.jpeg  9008589488662454.jpeg\r\n",
      "9002438567337533.jpeg  9005483529921877.jpeg  9008597502175137.jpeg\r\n",
      "9002440680093904.jpeg  9005513686134347.jpeg  9008603646694694.jpeg\r\n",
      "9002441606944176.jpeg  9005525661634330.jpeg  9008609427097339.jpeg\r\n",
      "9002466606332053.jpeg  9005526669276736.jpeg  9008609544924223.jpeg\r\n",
      "9002467588839683.jpeg  9005526680205367.jpeg  9008620606336402.jpeg\r\n",
      "9002469486307586.jpeg  9005530602329531.jpeg  9008632542071089.jpeg\r\n",
      "9002470500610433.jpeg  9005534640326986.jpeg  9008633604095539.jpeg\r\n",
      "9002493504623408.jpeg  9005535669886914.jpeg  9008634525728899.jpeg\r\n",
      "9002494588647812.jpeg  9005537529108439.jpeg  9008641646888302.jpeg\r\n",
      "9002495604247869.jpeg  9005540600650567.jpeg  9008646604456784.jpeg\r\n",
      "9002497540930492.jpeg  9005542629564029.jpeg  9008672580496741.jpeg\r\n",
      "9002498548572898.jpeg  9005545508446561.jpeg  9008674669082681.jpeg\r\n",
      "9002508588666847.jpeg  9005558486360168.jpeg  9008676402557213.jpeg\r\n",
      "9002510606902335.jpeg  9005562644187414.jpeg  9008676506775115.jpeg\r\n",
      "9002518548762153.jpeg  9005568546006159.jpeg  9008679486368775.jpeg\r\n",
      "9002520561889639.jpeg  9005589465033158.jpeg  9008694667377220.jpeg\r\n",
      "9002552565413981.jpeg  9005606640702356.jpeg  9008709406718587.jpeg\r\n",
      "9002556467901143.jpeg  9005615463782604.jpeg  9008717502971846.jpeg\r\n",
      "9002560600823538.jpeg  9005628506528049.jpeg  9008723661824454.jpeg\r\n",
      "9002561669219556.jpeg  9005639448131085.jpeg  9008724686706374.jpeg\r\n",
      "9002572529140359.jpeg  9005642580437626.jpeg  9008733561279039.jpeg\r\n",
      "9002581667525942.jpeg  9005647421525789.jpeg  9008749423215728.jpeg\r\n",
      "9002582665267358.jpeg  9005647688208193.jpeg  9008765427038866.jpeg\r\n",
      "9002605682182903.jpeg  9005650621168165.jpeg  9008782688894584.jpeg\r\n",
      "9002614648156577.jpeg  9005656506758044.jpeg  9008805665873390.jpeg\r\n",
      "9002615482988792.jpeg  9005674546804590.jpeg  9008810623865690.jpeg\r\n",
      "9002626567584056.jpeg  9005679482946972.jpeg  9008812521333593.jpeg\r\n",
      "9002632627416996.jpeg  9005680502559954.jpeg  9008826408889496.jpeg\r\n",
      "9002632661083277.jpeg  9005690600420775.jpeg  9008827648515210.jpeg\r\n",
      "9002634523650004.jpeg  9005691604452317.jpeg  9008828542050571.jpeg\r\n",
      "9002642686533950.jpeg  9005697582773718.jpeg  9008840521563598.jpeg\r\n",
      "9002659529982209.jpeg  9005702602342023.jpeg  9008844602956881.jpeg\r\n",
      "9002679406731288.jpeg  9005712506355057.jpeg  9008855440341926.jpeg\r\n",
      "9002703580416103.jpeg  9005740584699836.jpeg  9008857425709864.jpeg\r\n",
      "9002708582520109.jpeg  9005743567799280.jpeg  9008858548576046.jpeg\r\n",
      "9002715521390330.jpeg  9005746480207688.jpeg  9008883565628354.jpeg\r\n",
      "9002722667968470.jpeg  9005747500407401.jpeg  9008906642246945.jpeg\r\n",
      "9002728461613632.jpeg  9005748548975655.jpeg  9008915686360331.jpeg\r\n",
      "9002739406100917.jpeg  9005753648321587.jpeg  9008916608632486.jpeg\r\n",
      "9002739565871206.jpeg  9005776642455210.jpeg  9008924527287472.jpeg\r\n",
      "9002764642683145.jpeg  9005780567529706.jpeg  9008925640176302.jpeg\r\n",
      "9002776423278856.jpeg  9005789425361544.jpeg  9008951523407593.jpeg\r\n",
      "9002783548939133.jpeg  9005799540550022.jpeg  9008959525939690.jpeg\r\n",
      "9002783565246232.jpeg  9005800540512061.jpeg  9008985529794883.jpeg\r\n",
      "9002786625367479.jpeg  9005801542833574.jpeg  9008987548709345.jpeg\r\n",
      "9002808423464184.jpeg  9005813682336739.jpeg  9008990525933571.jpeg\r\n",
      "9002836527855496.jpeg  9005815523639037.jpeg  9009000561423389.jpeg\r\n",
      "9002845406908268.jpeg  9005823608885422.jpeg  9009001608841958.jpeg\r\n",
      "9002850627899749.jpeg  9005826680017524.jpeg  9009005667755187.jpeg\r\n",
      "9002854527053447.jpeg  9005828506771526.jpeg  9009013642415103.jpeg\r\n",
      "9002857588225260.jpeg  9005832642031565.jpeg  9009015644189140.jpeg\r\n",
      "9002864527095491.jpeg  9005844669276943.jpeg  9009025561822914.jpeg\r\n",
      "9002885500405544.jpeg  9005858567772235.jpeg  9009025561843671.jpeg\r\n",
      "9002888446441691.jpeg  9005859408444470.jpeg  9009036442681248.jpeg\r\n",
      "9002894523612066.jpeg  9005859569481070.jpeg  9009044642073309.jpeg\r\n",
      "9002894588096101.jpeg  9005873684488868.jpeg  9009049529942539.jpeg\r\n",
      "9002909465202973.jpeg  9005878429904576.jpeg  9009050588873232.jpeg\r\n",
      "9002917523230512.jpeg  9005881527663604.jpeg  9009052504832112.jpeg\r\n",
      "9002942544960937.jpeg  9005884544331329.jpeg  9009053561005334.jpeg\r\n",
      "9002946642660339.jpeg  9005886408231941.jpeg  9009116604224048.jpeg\r\n",
      "9002957406562012.jpeg  9005907440700225.jpeg  9009137588626181.jpeg\r\n",
      "9002963600690028.jpeg  9005927446293735.jpeg  9009143584296636.jpeg\r\n",
      "9002970544122699.jpeg  9005929444379665.jpeg  9009151625918175.jpeg\r\n",
      "9002972584064772.jpeg  9005955667500283.jpeg  9009153548992707.jpeg\r\n",
      "9002972640136296.jpeg  9005973602344747.jpeg  9009174544920841.jpeg\r\n",
      "9002975584482973.jpeg  9005997542628478.jpeg  9009182640115767.jpeg\r\n",
      "9002978580201310.jpeg  9005998529353011.jpeg  9009198442478087.jpeg\r\n",
      "9002984640174675.jpeg  9006014665643923.jpeg\r\n",
      "9002998440721533.jpeg  9006018427032116.jpeg\r\n"
     ]
    }
   ],
   "source": [
    "! ls $PATH/test"
   ]
  },
  {
   "cell_type": "code",
   "execution_count": 16,
   "metadata": {
    "scrolled": true
   },
   "outputs": [
    {
     "data": {
      "text/plain": [
       "<matplotlib.image.AxesImage at 0x7f967d6bad30>"
      ]
     },
     "execution_count": 16,
     "metadata": {},
     "output_type": "execute_result"
    },
    {
     "data": {
      "image/png": "[encoded data removed]",
      "text/plain": [
       "<Figure size 432x288 with 1 Axes>"
      ]
     },
     "metadata": {},
     "output_type": "display_data"
    }
   ],
   "source": [
    "from matplotlib.pyplot import imshow\n",
    "from PIL import Image\n",
    "im = Image.open(f'{PATH}/test/9003062625131908.jpeg')\n",
    "imshow(np.asarray(im))\n"
   ]
  },
  {
   "cell_type": "code",
   "execution_count": 46,
   "metadata": {},
   "outputs": [],
   "source": [
    "im_np  = np.asarray(im)"
   ]
  },
  {
   "cell_type": "code",
   "execution_count": 50,
   "metadata": {},
   "outputs": [
    {
     "data": {
      "text/plain": [
       "(255, 255, 3)"
      ]
     },
     "execution_count": 50,
     "metadata": {},
     "output_type": "execute_result"
    }
   ],
   "source": [
    "im_np.shape"
   ]
  },
  {
   "cell_type": "code",
   "execution_count": null,
   "metadata": {},
   "outputs": [],
   "source": [
    "in_"
   ]
  }
 ],
 "metadata": {
  "kernelspec": {
   "display_name": "Python 3",
   "language": "python",
   "name": "python3"
  },
  "language_info": {
   "codemirror_mode": {
    "name": "ipython",
    "version": 3
   },
   "file_extension": ".py",
   "mimetype": "text/x-python",
   "name": "python",
   "nbconvert_exporter": "python",
   "pygments_lexer": "ipython3",
   "version": "3.6.4"
  }
 },
 "nbformat": 4,
 "nbformat_minor": 2
}
