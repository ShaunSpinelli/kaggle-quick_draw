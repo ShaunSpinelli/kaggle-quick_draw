{
 "cells": [
  {
   "cell_type": "code",
   "execution_count": 1,
   "metadata": {
    "scrolled": false
   },
   "outputs": [
    {
     "name": "stderr",
     "output_type": "stream",
     "text": [
      "/home/ubuntu/anaconda3/envs/python3/lib/python3.6/site-packages/matplotlib/__init__.py:1067: UserWarning: Duplicate key in file \"/home/ubuntu/.config/matplotlib/matplotlibrc\", line #2\n",
      "  (fname, cnt))\n",
      "/home/ubuntu/anaconda3/envs/python3/lib/python3.6/site-packages/matplotlib/__init__.py:1067: UserWarning: Duplicate key in file \"/home/ubuntu/.config/matplotlib/matplotlibrc\", line #3\n",
      "  (fname, cnt))\n"
     ]
    }
   ],
   "source": [
    "%reload_ext autoreload\n",
    "%autoreload 2\n",
    "%matplotlib inline"
   ]
  },
  {
   "cell_type": "code",
   "execution_count": 2,
   "metadata": {
    "scrolled": true
   },
   "outputs": [],
   "source": [
    "from fastai.imports import *"
   ]
  },
  {
   "cell_type": "code",
   "execution_count": 3,
   "metadata": {},
   "outputs": [],
   "source": [
    "from fastai.dataset import *"
   ]
  },
  {
   "cell_type": "code",
   "execution_count": 4,
   "metadata": {},
   "outputs": [],
   "source": [
    "from fastai.conv_learner import *"
   ]
  },
  {
   "cell_type": "code",
   "execution_count": 7,
   "metadata": {},
   "outputs": [
    {
     "name": "stdout",
     "output_type": "stream",
     "text": [
      "images\traw_data  train  train_simplified.zip  valid\r\n"
     ]
    }
   ],
   "source": [
    "! ls /home/ubuntu/data/kaggle"
   ]
  },
  {
   "cell_type": "code",
   "execution_count": 11,
   "metadata": {},
   "outputs": [],
   "source": [
    "PATH = Path(\"/home/ubuntu/data/kaggle\")"
   ]
  },
  {
   "cell_type": "code",
   "execution_count": null,
   "metadata": {},
   "outputs": [],
   "source": [
    "import split\n",
    "from pathlib import Path"
   ]
  },
  {
   "cell_type": "code",
   "execution_count": null,
   "metadata": {
    "scrolled": true
   },
   "outputs": [],
   "source": [
    "#split.main(PATH/\"images\")"
   ]
  },
  {
   "cell_type": "code",
   "execution_count": 7,
   "metadata": {},
   "outputs": [],
   "source": [
    "PATH = \"/home/ubuntu/data/'~'/data/\""
   ]
  },
  {
   "cell_type": "code",
   "execution_count": 12,
   "metadata": {},
   "outputs": [
    {
     "name": "stdout",
     "output_type": "stream",
     "text": [
      "\u001b[0m\u001b[01;34mtrain\u001b[0m/  \u001b[01;34mvalid\u001b[0m/\r\n"
     ]
    }
   ],
   "source": [
    "ls $PATH"
   ]
  },
  {
   "cell_type": "code",
   "execution_count": 9,
   "metadata": {},
   "outputs": [],
   "source": [
    "arch=resnet34\n",
    "sz=224"
   ]
  },
  {
   "cell_type": "code",
   "execution_count": 12,
   "metadata": {
    "scrolled": true
   },
   "outputs": [
    {
     "name": "stdout",
     "output_type": "stream",
     "text": [
      "reading dirs\n",
      "reading dirs\n"
     ]
    }
   ],
   "source": [
    "\n",
    "data = ImageClassifierData.from_paths(PATH, tfms=tfms_from_model(arch, sz))"
   ]
  },
  {
   "cell_type": "code",
   "execution_count": 10,
   "metadata": {
    "scrolled": true
   },
   "outputs": [],
   "source": [
    "#data.val_ds[0]"
   ]
  },
  {
   "cell_type": "code",
   "execution_count": 13,
   "metadata": {
    "scrolled": false
   },
   "outputs": [
    {
     "name": "stdout",
     "output_type": "stream",
     "text": [
      "100%|██████████| 4250/4250 [20:50<00:00,  3.40it/s]\n",
      "100%|██████████| 1063/1063 [05:12<00:00,  3.40it/s]\n"
     ]
    }
   ],
   "source": [
    "learn = ConvLearner.pretrained(arch, data, precompute=True)"
   ]
  },
  {
   "cell_type": "code",
   "execution_count": 14,
   "metadata": {
    "scrolled": true
   },
   "outputs": [
    {
     "data": {
      "application/vnd.jupyter.widget-view+json": {
       "model_id": "6b235f4fb63f46f094b2bec82f88d6fb",
       "version_major": 2,
       "version_minor": 0
      },
      "text/html": [
       "<p>Failed to display Jupyter Widget of type <code>HBox</code>.</p>\n",
       "<p>\n",
       "  If you're reading this message in the Jupyter Notebook or JupyterLab Notebook, it may mean\n",
       "  that the widgets JavaScript is still loading. If this message persists, it\n",
       "  likely means that the widgets JavaScript library is either not installed or\n",
       "  not enabled. See the <a href=\"https://ipywidgets.readthedocs.io/en/stable/user_install.html\">Jupyter\n",
       "  Widgets Documentation</a> for setup instructions.\n",
       "</p>\n",
       "<p>\n",
       "  If you're reading this message in another frontend (for example, a static\n",
       "  rendering on GitHub or <a href=\"https://nbviewer.jupyter.org/\">NBViewer</a>),\n",
       "  it may mean that your frontend doesn't currently support widgets.\n",
       "</p>\n"
      ],
      "text/plain": [
       "HBox(children=(IntProgress(value=0, description='Epoch', max=1), HTML(value='')))"
      ]
     },
     "metadata": {},
     "output_type": "display_data"
    },
    {
     "name": "stdout",
     "output_type": "stream",
     "text": [
      " 81%|████████▏ | 3457/4250 [00:56<00:13, 60.70it/s, loss=13.6]"
     ]
    }
   ],
   "source": [
    "lrf=learn.lr_find()"
   ]
  },
  {
   "cell_type": "code",
   "execution_count": 13,
   "metadata": {
    "collapsed": true
   },
   "outputs": [
    {
     "data": {
      "image/png": "[encoded data removed]",
      "text/plain": [
       "<Figure size 432x288 with 1 Axes>"
      ]
     },
     "metadata": {},
     "output_type": "display_data"
    }
   ],
   "source": [
    "learn.sched.plot_lr()"
   ]
  },
  {
   "cell_type": "code",
   "execution_count": 15,
   "metadata": {
    "scrolled": true
   },
   "outputs": [
    {
     "data": {
      "image/png": "[encoded data removed]",
      "text/plain": [
       "<Figure size 432x288 with 1 Axes>"
      ]
     },
     "metadata": {},
     "output_type": "display_data"
    }
   ],
   "source": [
    "learn.sched.plot()"
   ]
  },
  {
   "cell_type": "code",
   "execution_count": 16,
   "metadata": {
    "scrolled": true
   },
   "outputs": [
    {
     "data": {
      "application/vnd.jupyter.widget-view+json": {
       "model_id": "d5b6aebc26b246d2ae87679fefa3a028",
       "version_major": 2,
       "version_minor": 0
      },
      "text/html": [
       "<p>Failed to display Jupyter Widget of type <code>HBox</code>.</p>\n",
       "<p>\n",
       "  If you're reading this message in the Jupyter Notebook or JupyterLab Notebook, it may mean\n",
       "  that the widgets JavaScript is still loading. If this message persists, it\n",
       "  likely means that the widgets JavaScript library is either not installed or\n",
       "  not enabled. See the <a href=\"https://ipywidgets.readthedocs.io/en/stable/user_install.html\">Jupyter\n",
       "  Widgets Documentation</a> for setup instructions.\n",
       "</p>\n",
       "<p>\n",
       "  If you're reading this message in another frontend (for example, a static\n",
       "  rendering on GitHub or <a href=\"https://nbviewer.jupyter.org/\">NBViewer</a>),\n",
       "  it may mean that your frontend doesn't currently support widgets.\n",
       "</p>\n"
      ],
      "text/plain": [
       "HBox(children=(IntProgress(value=0, description='Epoch', max=5), HTML(value='')))"
      ]
     },
     "metadata": {},
     "output_type": "display_data"
    },
    {
     "name": "stdout",
     "output_type": "stream",
     "text": [
      " 13%|█▎        | 569/4250 [00:08<00:56, 65.18it/s, loss=3.92] \n",
      " 14%|█▎        | 577/4250 [00:08<00:57, 64.23it/s, loss=3.89]"
     ]
    },
    {
     "name": "stderr",
     "output_type": "stream",
     "text": [
      "Exception in thread Thread-6:\n",
      "Traceback (most recent call last):\n",
      "  File \"/home/ubuntu/anaconda3/envs/python3/lib/python3.6/threading.py\", line 916, in _bootstrap_inner\n",
      "    self.run()\n",
      "  File \"/home/ubuntu/anaconda3/envs/python3/lib/python3.6/site-packages/tqdm/_monitor.py\", line 62, in run\n",
      "    for instance in self.tqdm_cls._instances:\n",
      "  File \"/home/ubuntu/anaconda3/envs/python3/lib/python3.6/_weakrefset.py\", line 60, in __iter__\n",
      "    for itemref in self.data:\n",
      "RuntimeError: Set changed size during iteration\n",
      "\n"
     ]
    },
    {
     "name": "stdout",
     "output_type": "stream",
     "text": [
      "epoch      trn_loss   val_loss   accuracy                     \n",
      "    0      2.693903   2.246286   0.482735  \n",
      "    1      2.529652   2.08284    0.517176                     \n",
      "    2      2.427324   2.006054   0.529309                     \n",
      "    3      2.303946   1.958784   0.542015                     \n",
      "    4      2.294984   1.930115   0.548412                     \n",
      "\n"
     ]
    },
    {
     "data": {
      "text/plain": [
       "[array([1.93011]), 0.5484117647058824]"
      ]
     },
     "execution_count": 16,
     "metadata": {},
     "output_type": "execute_result"
    }
   ],
   "source": [
    "learn.fit(0.01, 5)"
   ]
  },
  {
   "cell_type": "code",
   "execution_count": null,
   "metadata": {},
   "outputs": [],
   "source": [
    "#! ls /home/ubuntu/data/quick-draw/main/train/snake/"
   ]
  },
  {
   "cell_type": "code",
   "execution_count": 17,
   "metadata": {},
   "outputs": [
    {
     "data": {
      "application/vnd.jupyter.widget-view+json": {
       "model_id": "a1bbd2d055d843259809db98e6e989a3",
       "version_major": 2,
       "version_minor": 0
      },
      "text/html": [
       "<p>Failed to display Jupyter Widget of type <code>HBox</code>.</p>\n",
       "<p>\n",
       "  If you're reading this message in the Jupyter Notebook or JupyterLab Notebook, it may mean\n",
       "  that the widgets JavaScript is still loading. If this message persists, it\n",
       "  likely means that the widgets JavaScript library is either not installed or\n",
       "  not enabled. See the <a href=\"https://ipywidgets.readthedocs.io/en/stable/user_install.html\">Jupyter\n",
       "  Widgets Documentation</a> for setup instructions.\n",
       "</p>\n",
       "<p>\n",
       "  If you're reading this message in another frontend (for example, a static\n",
       "  rendering on GitHub or <a href=\"https://nbviewer.jupyter.org/\">NBViewer</a>),\n",
       "  it may mean that your frontend doesn't currently support widgets.\n",
       "</p>\n"
      ],
      "text/plain": [
       "HBox(children=(IntProgress(value=0, description='Epoch', max=3), HTML(value='')))"
      ]
     },
     "metadata": {},
     "output_type": "display_data"
    },
    {
     "name": "stdout",
     "output_type": "stream",
     "text": [
      "epoch      trn_loss   val_loss   accuracy                     \n",
      "    0      2.2514     1.900975   0.552691  \n",
      "    1      2.261041   1.885075   0.555176                     \n",
      "    2      2.249973   1.864747   0.559147                     \n",
      "\n"
     ]
    },
    {
     "data": {
      "text/plain": [
       "[array([1.86475]), 0.5591470588235294]"
      ]
     },
     "execution_count": 17,
     "metadata": {},
     "output_type": "execute_result"
    }
   ],
   "source": [
    "learn.fit(0.01, 3)"
   ]
  },
  {
   "cell_type": "code",
   "execution_count": null,
   "metadata": {},
   "outputs": [],
   "source": [
    "#! file /home/ubuntu/data/train/mouse/4708360907653120.jpeg"
   ]
  },
  {
   "cell_type": "code",
   "execution_count": 18,
   "metadata": {},
   "outputs": [],
   "source": [
    "learn.unfreeze()"
   ]
  },
  {
   "cell_type": "code",
   "execution_count": 19,
   "metadata": {},
   "outputs": [],
   "source": [
    "lr=np.array([1e-4,1e-3,1e-2])"
   ]
  },
  {
   "cell_type": "code",
   "execution_count": null,
   "metadata": {},
   "outputs": [
    {
     "data": {
      "application/vnd.jupyter.widget-view+json": {
       "model_id": "feb556f4e87c42d1adb341527c7c68dc",
       "version_major": 2,
       "version_minor": 0
      },
      "text/html": [
       "<p>Failed to display Jupyter Widget of type <code>HBox</code>.</p>\n",
       "<p>\n",
       "  If you're reading this message in the Jupyter Notebook or JupyterLab Notebook, it may mean\n",
       "  that the widgets JavaScript is still loading. If this message persists, it\n",
       "  likely means that the widgets JavaScript library is either not installed or\n",
       "  not enabled. See the <a href=\"https://ipywidgets.readthedocs.io/en/stable/user_install.html\">Jupyter\n",
       "  Widgets Documentation</a> for setup instructions.\n",
       "</p>\n",
       "<p>\n",
       "  If you're reading this message in another frontend (for example, a static\n",
       "  rendering on GitHub or <a href=\"https://nbviewer.jupyter.org/\">NBViewer</a>),\n",
       "  it may mean that your frontend doesn't currently support widgets.\n",
       "</p>\n"
      ],
      "text/plain": [
       "HBox(children=(IntProgress(value=0, description='Epoch', max=7), HTML(value='')))"
      ]
     },
     "metadata": {},
     "output_type": "display_data"
    },
    {
     "name": "stdout",
     "output_type": "stream",
     "text": [
      "epoch      trn_loss   val_loss   accuracy                     \n",
      "    0      2.126336   1.833728   0.567721  \n",
      "    1      2.143923   1.831695   0.567382                     \n",
      "  9%|▉         | 399/4250 [01:54<18:21,  3.50it/s, loss=2.09]"
     ]
    }
   ],
   "source": [
    "learn.fit(lr, 3, cycle_len=1, cycle_mult=2)"
   ]
  },
  {
   "cell_type": "code",
   "execution_count": 16,
   "metadata": {
    "collapsed": true
   },
   "outputs": [
    {
     "name": "stdout",
     "output_type": "stream",
     "text": [
      "airplane\t  cruise ship\t   line\t\t   shoe\r\n",
      "alarm clock\t  cup\t\t   lion\t\t   shorts\r\n",
      "ambulance\t  diamond\t   lipstick\t   shovel\r\n",
      "angel\t\t  dishwasher\t   lobster\t   sink\r\n",
      "animal migration  diving board\t   lollipop\t   skateboard\r\n",
      "ant\t\t  dog\t\t   mailbox\t   skull\r\n",
      "anvil\t\t  dolphin\t   map\t\t   skyscraper\r\n",
      "apple\t\t  donut\t\t   marker\t   sleeping bag\r\n",
      "arm\t\t  door\t\t   matches\t   smiley face\r\n",
      "asparagus\t  dragon\t   megaphone\t   snail\r\n",
      "axe\t\t  dresser\t   mermaid\t   snake\r\n",
      "backpack\t  drill\t\t   microphone\t   snorkel\r\n",
      "banana\t\t  drums\t\t   microwave\t   snowflake\r\n",
      "bandage\t\t  duck\t\t   monkey\t   snowman\r\n",
      "barn\t\t  dumbbell\t   moon\t\t   soccer ball\r\n",
      "baseball\t  ear\t\t   mosquito\t   sock\r\n",
      "baseball bat\t  elbow\t\t   motorbike\t   speedboat\r\n",
      "basket\t\t  elephant\t   mountain\t   spider\r\n",
      "basketball\t  envelope\t   mouse\t   spoon\r\n",
      "bat\t\t  eraser\t   moustache\t   spreadsheet\r\n",
      "bathtub\t\t  eye\t\t   mouth\t   square\r\n",
      "beach\t\t  eyeglasses\t   mug\t\t   squiggle\r\n",
      "bear\t\t  face\t\t   mushroom\t   squirrel\r\n",
      "beard\t\t  fan\t\t   nail\t\t   stairs\r\n",
      "bed\t\t  feather\t   necklace\t   star\r\n",
      "bee\t\t  fence\t\t   nose\t\t   steak\r\n",
      "belt\t\t  finger\t   ocean\t   stereo\r\n",
      "bench\t\t  fire hydrant\t   octagon\t   stethoscope\r\n",
      "bicycle\t\t  fireplace\t   octopus\t   stitches\r\n",
      "binoculars\t  firetruck\t   onion\t   stop sign\r\n",
      "bird\t\t  fish\t\t   oven\t\t   stove\r\n",
      "birthday cake\t  flamingo\t   owl\t\t   strawberry\r\n",
      "blackberry\t  flashlight\t   paintbrush\t   streetlight\r\n",
      "blueberry\t  flip flops\t   paint can\t   string bean\r\n",
      "book\t\t  floor lamp\t   palm tree\t   submarine\r\n",
      "boomerang\t  flower\t   panda\t   suitcase\r\n",
      "bottlecap\t  flying saucer    pants\t   sun\r\n",
      "bowtie\t\t  foot\t\t   paper clip\t   swan\r\n",
      "bracelet\t  fork\t\t   parachute\t   sweater\r\n",
      "brain\t\t  frog\t\t   parrot\t   swing set\r\n",
      "bread\t\t  frying pan\t   passport\t   sword\r\n",
      "bridge\t\t  garden\t   peanut\t   table\r\n",
      "broccoli\t  garden hose\t   pear\t\t   teapot\r\n",
      "broom\t\t  giraffe\t   peas\t\t   teddy-bear\r\n",
      "bucket\t\t  goatee\t   pencil\t   telephone\r\n",
      "bulldozer\t  golf club\t   penguin\t   television\r\n",
      "bus\t\t  grapes\t   piano\t   tennis racquet\r\n",
      "bush\t\t  grass\t\t   pickup truck    tent\r\n",
      "butterfly\t  guitar\t   picture frame   The Eiffel Tower\r\n",
      "cactus\t\t  hamburger\t   pig\t\t   The Great Wall of China\r\n",
      "cake\t\t  hammer\t   pillow\t   The Mona Lisa\r\n",
      "calculator\t  hand\t\t   pineapple\t   tiger\r\n",
      "calendar\t  harp\t\t   pizza\t   toaster\r\n",
      "camel\t\t  hat\t\t   pliers\t   toe\r\n",
      "camera\t\t  headphones\t   police car\t   toilet\r\n",
      "camouflage\t  hedgehog\t   pond\t\t   tooth\r\n",
      "campfire\t  helicopter\t   pool\t\t   toothbrush\r\n",
      "candle\t\t  helmet\t   popsicle\t   toothpaste\r\n",
      "cannon\t\t  hexagon\t   postcard\t   tornado\r\n",
      "canoe\t\t  hockey puck\t   potato\t   tractor\r\n",
      "car\t\t  hockey stick\t   power outlet    traffic light\r\n",
      "carrot\t\t  horse\t\t   purse\t   train\r\n",
      "castle\t\t  hospital\t   rabbit\t   tree\r\n",
      "cat\t\t  hot air balloon  raccoon\t   triangle\r\n",
      "ceiling fan\t  hot dog\t   radio\t   trombone\r\n",
      "cello\t\t  hot tub\t   rain\t\t   truck\r\n",
      "cell phone\t  hourglass\t   rainbow\t   trumpet\r\n",
      "chair\t\t  house\t\t   rake\t\t   t-shirt\r\n",
      "chandelier\t  house plant\t   remote control  umbrella\r\n",
      "church\t\t  hurricane\t   rhinoceros\t   underwear\r\n",
      "circle\t\t  ice cream\t   river\t   van\r\n",
      "clarinet\t  jacket\t   roller coaster  vase\r\n",
      "clock\t\t  jail\t\t   rollerskates    violin\r\n",
      "cloud\t\t  kangaroo\t   sailboat\t   washing machine\r\n",
      "coffee cup\t  key\t\t   sandwich\t   watermelon\r\n",
      "compass\t\t  keyboard\t   saw\t\t   waterslide\r\n",
      "computer\t  knee\t\t   saxophone\t   whale\r\n",
      "cookie\t\t  ladder\t   school bus\t   wheel\r\n",
      "cooler\t\t  lantern\t   scissors\t   windmill\r\n",
      "couch\t\t  laptop\t   scorpion\t   wine bottle\r\n",
      "cow\t\t  leaf\t\t   screwdriver\t   wine glass\r\n",
      "crab\t\t  leg\t\t   sea turtle\t   wristwatch\r\n",
      "crayon\t\t  light bulb\t   see saw\t   yoga\r\n",
      "crocodile\t  lighthouse\t   shark\t   zebra\r\n",
      "crown\t\t  lightning\t   sheep\t   zigzag\r\n"
     ]
    }
   ],
   "source": [
    "! ls $PATH/train/ant"
   ]
  },
  {
   "cell_type": "code",
   "execution_count": 39,
   "metadata": {},
   "outputs": [],
   "source": [
    "files = os.listdir(f'{PATH}/train/dog')[:3]"
   ]
  },
  {
   "cell_type": "code",
   "execution_count": 40,
   "metadata": {},
   "outputs": [
    {
     "data": {
      "text/plain": [
       "['6469251361669120.jpeg', '5192025462800384.jpeg', '4654442311843840.jpeg']"
      ]
     },
     "execution_count": 40,
     "metadata": {},
     "output_type": "execute_result"
    }
   ],
   "source": [
    "files"
   ]
  },
  {
   "cell_type": "code",
   "execution_count": 42,
   "metadata": {},
   "outputs": [],
   "source": [
    "img = plt.imread(f'{PATH}/train/dog/{files[1]}')"
   ]
  },
  {
   "cell_type": "code",
   "execution_count": 43,
   "metadata": {},
   "outputs": [
    {
     "data": {
      "text/plain": [
       "<matplotlib.image.AxesImage at 0x7fa764317e80>"
      ]
     },
     "execution_count": 43,
     "metadata": {},
     "output_type": "execute_result"
    },
    {
     "data": {
      "image/png": "[encoded data removed]",
      "text/plain": [
       "<Figure size 432x288 with 1 Axes>"
      ]
     },
     "metadata": {},
     "output_type": "display_data"
    }
   ],
   "source": [
    "plt.imshow(img)"
   ]
  },
  {
   "cell_type": "code",
   "execution_count": 30,
   "metadata": {},
   "outputs": [],
   "source": [
    "import numpy as np"
   ]
  },
  {
   "cell_type": "code",
   "execution_count": 45,
   "metadata": {
    "scrolled": true
   },
   "outputs": [
    {
     "data": {
      "text/plain": [
       "<matplotlib.image.AxesImage at 0x7fa764276be0>"
      ]
     },
     "execution_count": 45,
     "metadata": {},
     "output_type": "execute_result"
    },
    {
     "data": {
      "image/png": "[encoded data removed]",
      "text/plain": [
       "<Figure size 432x288 with 1 Axes>"
      ]
     },
     "metadata": {},
     "output_type": "display_data"
    }
   ],
   "source": [
    "from matplotlib.pyplot import imshow\n",
    "from PIL import Image\n",
    "im = Image.open(f'{PATH}/train/dog/{files[1]}')\n",
    "imshow(np.asarray(im))\n"
   ]
  },
  {
   "cell_type": "code",
   "execution_count": 46,
   "metadata": {},
   "outputs": [],
   "source": [
    "im_np  = np.asarray(im)"
   ]
  },
  {
   "cell_type": "code",
   "execution_count": 50,
   "metadata": {},
   "outputs": [
    {
     "data": {
      "text/plain": [
       "(255, 255, 3)"
      ]
     },
     "execution_count": 50,
     "metadata": {},
     "output_type": "execute_result"
    }
   ],
   "source": [
    "im_np.shape"
   ]
  },
  {
   "cell_type": "code",
   "execution_count": null,
   "metadata": {},
   "outputs": [],
   "source": [
    "in_"
   ]
  }
 ],
 "metadata": {
  "kernelspec": {
   "display_name": "Python 3",
   "language": "python",
   "name": "python3"
  },
  "language_info": {
   "codemirror_mode": {
    "name": "ipython",
    "version": 3
   },
   "file_extension": ".py",
   "mimetype": "text/x-python",
   "name": "python",
   "nbconvert_exporter": "python",
   "pygments_lexer": "ipython3",
   "version": "3.6.4"
  }
 },
 "nbformat": 4,
 "nbformat_minor": 2
}
