{
 "cells": [
  {
   "cell_type": "markdown",
   "metadata": {},
   "source": [
    "Process raw data and prodcue images\n",
    "\n"
   ]
  },
  {
   "cell_type": "code",
   "execution_count": 2,
   "metadata": {},
   "outputs": [],
   "source": [
    "import pandas as pd\n",
    "import numpy as np\n",
    "from matplotlib.pyplot import imshow\n",
    "import numpy as np\n",
    "from PIL import Image, ImageDraw\n",
    "\n",
    "%matplotlib inline"
   ]
  },
  {
   "cell_type": "code",
   "execution_count": null,
   "metadata": {},
   "outputs": [],
   "source": [
    "# code from https://www.kaggle.com/c/quickdraw-doodle-recognition/discussion/67036\n",
    "def draw_it(raw_strokes):\n",
    "    image = Image.new(\"P\", (255,255), color=255)\n",
    "    image_draw = ImageDraw.Draw(image)\n",
    "\n",
    "    for stroke in eval(raw_strokes):\n",
    "        for i in range(len(stroke[0])-1):\n",
    "\n",
    "            image_draw.line([stroke[0][i], \n",
    "                             stroke[1][i],\n",
    "                             stroke[0][i+1], \n",
    "                             stroke[1][i+1]],\n",
    "                            fill=0, width=6)\n",
    "    return np.array(image)"
   ]
  },
  {
   "cell_type": "code",
   "execution_count": 5,
   "metadata": {},
   "outputs": [
    {
     "name": "stdout",
     "output_type": "stream",
     "text": [
      "airplane.csv\t      firetruck.csv\t   postcard.csv\r\n",
      "alarm clock.csv       fish.csv\t\t   potato.csv\r\n",
      "ambulance.csv\t      flamingo.csv\t   power outlet.csv\r\n",
      "angel.csv\t      flashlight.csv\t   purse.csv\r\n",
      "animal migration.csv  flip flops.csv\t   rabbit.csv\r\n",
      "ant.csv\t\t      floor lamp.csv\t   raccoon.csv\r\n",
      "anvil.csv\t      flower.csv\t   radio.csv\r\n",
      "apple.csv\t      flying saucer.csv    rainbow.csv\r\n",
      "arm.csv\t\t      foot.csv\t\t   rain.csv\r\n",
      "asparagus.csv\t      fork.csv\t\t   rake.csv\r\n",
      "axe.csv\t\t      frog.csv\t\t   remote control.csv\r\n",
      "backpack.csv\t      frying pan.csv\t   rhinoceros.csv\r\n",
      "banana.csv\t      garden.csv\t   river.csv\r\n",
      "bandage.csv\t      garden hose.csv\t   roller coaster.csv\r\n",
      "barn.csv\t      giraffe.csv\t   rollerskates.csv\r\n",
      "baseball bat.csv      goatee.csv\t   sailboat.csv\r\n",
      "baseball.csv\t      golf club.csv\t   sandwich.csv\r\n",
      "basketball.csv\t      grapes.csv\t   saw.csv\r\n",
      "basket.csv\t      grass.csv\t\t   saxophone.csv\r\n",
      "bat.csv\t\t      guitar.csv\t   school bus.csv\r\n",
      "bathtub.csv\t      hamburger.csv\t   scissors.csv\r\n",
      "beach.csv\t      hammer.csv\t   scorpion.csv\r\n",
      "bear.csv\t      hand.csv\t\t   screwdriver.csv\r\n",
      "beard.csv\t      harp.csv\t\t   sea turtle.csv\r\n",
      "bed.csv\t\t      hat.csv\t\t   see saw.csv\r\n",
      "bee.csv\t\t      headphones.csv\t   shark.csv\r\n",
      "belt.csv\t      hedgehog.csv\t   sheep.csv\r\n",
      "bench.csv\t      helicopter.csv\t   shoe.csv\r\n",
      "bicycle.csv\t      helmet.csv\t   shorts.csv\r\n",
      "binoculars.csv\t      hexagon.csv\t   shovel.csv\r\n",
      "bird.csv\t      hockey puck.csv\t   sink.csv\r\n",
      "birthday cake.csv     hockey stick.csv\t   skateboard.csv\r\n",
      "blackberry.csv\t      horse.csv\t\t   skull.csv\r\n",
      "blueberry.csv\t      hospital.csv\t   skyscraper.csv\r\n",
      "book.csv\t      hot air balloon.csv  sleeping bag.csv\r\n",
      "boomerang.csv\t      hot dog.csv\t   smiley face.csv\r\n",
      "bottlecap.csv\t      hot tub.csv\t   snail.csv\r\n",
      "bowtie.csv\t      hourglass.csv\t   snake.csv\r\n",
      "bracelet.csv\t      house.csv\t\t   snorkel.csv\r\n",
      "brain.csv\t      house plant.csv\t   snowflake.csv\r\n",
      "bread.csv\t      hurricane.csv\t   snowman.csv\r\n",
      "bridge.csv\t      ice cream.csv\t   soccer ball.csv\r\n",
      "broccoli.csv\t      jacket.csv\t   sock.csv\r\n",
      "broom.csv\t      jail.csv\t\t   speedboat.csv\r\n",
      "bucket.csv\t      kangaroo.csv\t   spider.csv\r\n",
      "bulldozer.csv\t      keyboard.csv\t   spoon.csv\r\n",
      "bus.csv\t\t      key.csv\t\t   spreadsheet.csv\r\n",
      "bush.csv\t      knee.csv\t\t   square.csv\r\n",
      "butterfly.csv\t      ladder.csv\t   squiggle.csv\r\n",
      "cactus.csv\t      lantern.csv\t   squirrel.csv\r\n",
      "cake.csv\t      laptop.csv\t   stairs.csv\r\n",
      "calculator.csv\t      leaf.csv\t\t   star.csv\r\n",
      "calendar.csv\t      leg.csv\t\t   steak.csv\r\n",
      "camel.csv\t      light bulb.csv\t   stereo.csv\r\n",
      "camera.csv\t      lighthouse.csv\t   stethoscope.csv\r\n",
      "camouflage.csv\t      lightning.csv\t   stitches.csv\r\n",
      "campfire.csv\t      line.csv\t\t   stop sign.csv\r\n",
      "candle.csv\t      lion.csv\t\t   stove.csv\r\n",
      "cannon.csv\t      lipstick.csv\t   strawberry.csv\r\n",
      "canoe.csv\t      lobster.csv\t   streetlight.csv\r\n",
      "car.csv\t\t      lollipop.csv\t   string bean.csv\r\n",
      "carrot.csv\t      mailbox.csv\t   submarine.csv\r\n",
      "castle.csv\t      map.csv\t\t   suitcase.csv\r\n",
      "cat.csv\t\t      marker.csv\t   sun.csv\r\n",
      "ceiling fan.csv       matches.csv\t   swan.csv\r\n",
      "cello.csv\t      megaphone.csv\t   sweater.csv\r\n",
      "cell phone.csv\t      mermaid.csv\t   swing set.csv\r\n",
      "chair.csv\t      microphone.csv\t   sword.csv\r\n",
      "chandelier.csv\t      microwave.csv\t   table.csv\r\n",
      "church.csv\t      monkey.csv\t   teapot.csv\r\n",
      "circle.csv\t      moon.csv\t\t   teddy-bear.csv\r\n",
      "clarinet.csv\t      mosquito.csv\t   telephone.csv\r\n",
      "clock.csv\t      motorbike.csv\t   television.csv\r\n",
      "cloud.csv\t      mountain.csv\t   tennis racquet.csv\r\n",
      "coffee cup.csv\t      mouse.csv\t\t   tent.csv\r\n",
      "compass.csv\t      moustache.csv\t   The Eiffel Tower.csv\r\n",
      "computer.csv\t      mouth.csv\t\t   The Great Wall of China.csv\r\n",
      "cookie.csv\t      mug.csv\t\t   The Mona Lisa.csv\r\n",
      "cooler.csv\t      mushroom.csv\t   tiger.csv\r\n",
      "couch.csv\t      nail.csv\t\t   toaster.csv\r\n",
      "cow.csv\t\t      necklace.csv\t   toe.csv\r\n",
      "crab.csv\t      nose.csv\t\t   toilet.csv\r\n",
      "crayon.csv\t      ocean.csv\t\t   toothbrush.csv\r\n",
      "crocodile.csv\t      octagon.csv\t   tooth.csv\r\n",
      "crown.csv\t      octopus.csv\t   toothpaste.csv\r\n",
      "cruise ship.csv       onion.csv\t\t   tornado.csv\r\n",
      "cup.csv\t\t      oven.csv\t\t   tractor.csv\r\n",
      "diamond.csv\t      owl.csv\t\t   traffic light.csv\r\n",
      "dishwasher.csv\t      paintbrush.csv\t   train.csv\r\n",
      "diving board.csv      paint can.csv\t   tree.csv\r\n",
      "dog.csv\t\t      palm tree.csv\t   triangle.csv\r\n",
      "dolphin.csv\t      panda.csv\t\t   trombone.csv\r\n",
      "donut.csv\t      pants.csv\t\t   truck.csv\r\n",
      "door.csv\t      paper clip.csv\t   trumpet.csv\r\n",
      "dragon.csv\t      parachute.csv\t   t-shirt.csv\r\n",
      "dresser.csv\t      parrot.csv\t   umbrella.csv\r\n",
      "drill.csv\t      passport.csv\t   underwear.csv\r\n",
      "drums.csv\t      peanut.csv\t   van.csv\r\n",
      "duck.csv\t      pear.csv\t\t   vase.csv\r\n",
      "dumbbell.csv\t      peas.csv\t\t   violin.csv\r\n",
      "ear.csv\t\t      pencil.csv\t   washing machine.csv\r\n",
      "elbow.csv\t      penguin.csv\t   watermelon.csv\r\n",
      "elephant.csv\t      piano.csv\t\t   waterslide.csv\r\n",
      "envelope.csv\t      pickup truck.csv\t   whale.csv\r\n",
      "eraser.csv\t      picture frame.csv    wheel.csv\r\n",
      "eye.csv\t\t      pig.csv\t\t   windmill.csv\r\n",
      "eyeglasses.csv\t      pillow.csv\t   wine bottle.csv\r\n",
      "face.csv\t      pineapple.csv\t   wine glass.csv\r\n",
      "fan.csv\t\t      pizza.csv\t\t   wristwatch.csv\r\n",
      "feather.csv\t      pliers.csv\t   yoga.csv\r\n",
      "fence.csv\t      police car.csv\t   zebra.csv\r\n",
      "finger.csv\t      pond.csv\t\t   zigzag.csv\r\n",
      "fire hydrant.csv      pool.csv\r\n",
      "fireplace.csv\t      popsicle.csv\r\n"
     ]
    }
   ],
   "source": [
    "! ls data\n"
   ]
  },
  {
   "cell_type": "code",
   "execution_count": 6,
   "metadata": {},
   "outputs": [],
   "source": [
    "ants = pd.read_csv(\"data/airplane.csv\")"
   ]
  },
  {
   "cell_type": "code",
   "execution_count": 7,
   "metadata": {
    "scrolled": false
   },
   "outputs": [],
   "source": [
    "col = ['key_id','drawing', ]"
   ]
  },
  {
   "cell_type": "markdown",
   "metadata": {},
   "source": [
    "probably a good idea to remove or weight images that werent recognized less"
   ]
  },
  {
   "cell_type": "code",
   "execution_count": 8,
   "metadata": {
    "scrolled": true
   },
   "outputs": [],
   "source": [
    "ants2 = ants[col]"
   ]
  },
  {
   "cell_type": "code",
   "execution_count": 29,
   "metadata": {},
   "outputs": [],
   "source": [
    "d = ants2.set_index('key_id').to_dict()"
   ]
  },
  {
   "cell_type": "code",
   "execution_count": 30,
   "metadata": {},
   "outputs": [
    {
     "data": {
      "text/plain": [
       "dict_keys(['drawing'])"
      ]
     },
     "execution_count": 30,
     "metadata": {},
     "output_type": "execute_result"
    }
   ],
   "source": [
    "d.keys()"
   ]
  },
  {
   "cell_type": "code",
   "execution_count": 16,
   "metadata": {
    "scrolled": true
   },
   "outputs": [
    {
     "ename": "ValueError",
     "evalue": "orient 'key_id' not understood",
     "output_type": "error",
     "traceback": [
      "\u001b[0;31m---------------------------------------------------------------------------\u001b[0m",
      "\u001b[0;31mValueError\u001b[0m                                Traceback (most recent call last)",
      "\u001b[0;32m<ipython-input-16-38d68ff473dd>\u001b[0m in \u001b[0;36m<module>\u001b[0;34m()\u001b[0m\n\u001b[0;32m----> 1\u001b[0;31m \u001b[0mants2\u001b[0m\u001b[0;34m.\u001b[0m\u001b[0mto_dict\u001b[0m\u001b[0;34m(\u001b[0m\u001b[0;34m\"key_id\"\u001b[0m\u001b[0;34m)\u001b[0m\u001b[0;34m\u001b[0m\u001b[0m\n\u001b[0m",
      "\u001b[0;32m~/anaconda3/lib/python3.6/site-packages/pandas/core/frame.py\u001b[0m in \u001b[0;36mto_dict\u001b[0;34m(self, orient, into)\u001b[0m\n\u001b[1;32m   1003\u001b[0m             \u001b[0;32mreturn\u001b[0m \u001b[0minto_c\u001b[0m\u001b[0;34m(\u001b[0m\u001b[0;34m(\u001b[0m\u001b[0mk\u001b[0m\u001b[0;34m,\u001b[0m \u001b[0mv\u001b[0m\u001b[0;34m.\u001b[0m\u001b[0mto_dict\u001b[0m\u001b[0;34m(\u001b[0m\u001b[0minto\u001b[0m\u001b[0;34m)\u001b[0m\u001b[0;34m)\u001b[0m \u001b[0;32mfor\u001b[0m \u001b[0mk\u001b[0m\u001b[0;34m,\u001b[0m \u001b[0mv\u001b[0m \u001b[0;32min\u001b[0m \u001b[0mself\u001b[0m\u001b[0;34m.\u001b[0m\u001b[0miterrows\u001b[0m\u001b[0;34m(\u001b[0m\u001b[0;34m)\u001b[0m\u001b[0;34m)\u001b[0m\u001b[0;34m\u001b[0m\u001b[0m\n\u001b[1;32m   1004\u001b[0m         \u001b[0;32melse\u001b[0m\u001b[0;34m:\u001b[0m\u001b[0;34m\u001b[0m\u001b[0m\n\u001b[0;32m-> 1005\u001b[0;31m             \u001b[0;32mraise\u001b[0m \u001b[0mValueError\u001b[0m\u001b[0;34m(\u001b[0m\u001b[0;34m\"orient '%s' not understood\"\u001b[0m \u001b[0;34m%\u001b[0m \u001b[0morient\u001b[0m\u001b[0;34m)\u001b[0m\u001b[0;34m\u001b[0m\u001b[0m\n\u001b[0m\u001b[1;32m   1006\u001b[0m \u001b[0;34m\u001b[0m\u001b[0m\n\u001b[1;32m   1007\u001b[0m     def to_gbq(self, destination_table, project_id, chunksize=10000,\n",
      "\u001b[0;31mValueError\u001b[0m: orient 'key_id' not understood"
     ]
    }
   ],
   "source": [
    "ants2.to_dict(\"key_id\")"
   ]
  },
  {
   "cell_type": "code",
   "execution_count": 90,
   "metadata": {
    "scrolled": true
   },
   "outputs": [
    {
     "data": {
      "text/plain": [
       "dtype('O')"
      ]
     },
     "execution_count": 90,
     "metadata": {},
     "output_type": "execute_result"
    }
   ],
   "source": [
    "ants.drawing.dtype"
   ]
  },
  {
   "cell_type": "code",
   "execution_count": 91,
   "metadata": {},
   "outputs": [],
   "source": [
    "# import ast"
   ]
  },
  {
   "cell_type": "code",
   "execution_count": 111,
   "metadata": {},
   "outputs": [],
   "source": [
    "# ant = ast.literal_eval(ants.iloc[1].drawing)"
   ]
  },
  {
   "cell_type": "code",
   "execution_count": 114,
   "metadata": {},
   "outputs": [
    {
     "data": {
      "text/plain": [
       "151623"
      ]
     },
     "execution_count": 114,
     "metadata": {},
     "output_type": "execute_result"
    }
   ],
   "source": [
    "len(ants.index)\n"
   ]
  },
  {
   "cell_type": "code",
   "execution_count": 116,
   "metadata": {},
   "outputs": [],
   "source": [
    "ant = ants.iloc[151622].drawing"
   ]
  },
  {
   "cell_type": "code",
   "execution_count": 106,
   "metadata": {},
   "outputs": [],
   "source": [
    "#test_raw.loc[first_ten_ids, 'drawing'].values"
   ]
  },
  {
   "cell_type": "code",
   "execution_count": 107,
   "metadata": {},
   "outputs": [
    {
     "data": {
      "text/plain": [
       "'[[[102, 63, 14, 2, 0, 9, 29, 51, 100, 142, 181, 203, 216, 213, 197, 177, 152, 114, 106], [90, 85, 85, 90, 108, 124, 139, 149, 154, 145, 144, 134, 121, 114, 104, 101, 89, 81, 83]], [[192, 193, 209, 218], [103, 93, 54, 50]], [[205, 220], [114, 52]], [[201, 198, 220, 243], [139, 142, 167, 174]], [[204, 229, 248, 255], [131, 158, 172, 173]], [[90, 93, 89, 107, 122, 132, 135, 131], [99, 79, 16, 1, 2, 19, 45, 87]], [[94, 92, 95, 101, 115, 121, 129, 130, 128], [151, 181, 192, 203, 217, 211, 182, 158, 157]], [[18, 13, 43, 53, 62, 63, 56, 37, 20], [123, 98, 96, 102, 114, 123, 136, 137, 122]]]'"
      ]
     },
     "execution_count": 107,
     "metadata": {},
     "output_type": "execute_result"
    }
   ],
   "source": [
    "ant"
   ]
  },
  {
   "cell_type": "code",
   "execution_count": null,
   "metadata": {},
   "outputs": [],
   "source": []
  },
  {
   "cell_type": "code",
   "execution_count": 108,
   "metadata": {
    "scrolled": true
   },
   "outputs": [],
   "source": [
    "x = draw_it(ant)"
   ]
  },
  {
   "cell_type": "code",
   "execution_count": 109,
   "metadata": {},
   "outputs": [
    {
     "data": {
      "text/plain": [
       "(255, 255)"
      ]
     },
     "execution_count": 109,
     "metadata": {},
     "output_type": "execute_result"
    }
   ],
   "source": [
    "x.shape"
   ]
  },
  {
   "cell_type": "code",
   "execution_count": 110,
   "metadata": {
    "scrolled": true
   },
   "outputs": [
    {
     "data": {
      "text/plain": [
       "<matplotlib.image.AxesImage at 0x7fc9a4012828>"
      ]
     },
     "execution_count": 110,
     "metadata": {},
     "output_type": "execute_result"
    },
    {
     "data": {
      "image/png": "[encoded data removed]",
      "text/plain": [
       "<matplotlib.figure.Figure at 0x7fc9a4032320>"
      ]
     },
     "metadata": {},
     "output_type": "display_data"
    }
   ],
   "source": [
    "imshow(x)"
   ]
  },
  {
   "cell_type": "code",
   "execution_count": 1,
   "metadata": {},
   "outputs": [],
   "source": [
    "# trn,val = [folder_source(path, o) for o in (trn_name, val_name)]\n",
    "x,y = [ 3* i for i in('hi', 'bro')]\n"
   ]
  },
  {
   "cell_type": "code",
   "execution_count": 2,
   "metadata": {},
   "outputs": [
    {
     "data": {
      "text/plain": [
       "'hihihi'"
      ]
     },
     "execution_count": 2,
     "metadata": {},
     "output_type": "execute_result"
    }
   ],
   "source": []
  },
  {
   "cell_type": "code",
   "execution_count": 3,
   "metadata": {},
   "outputs": [
    {
     "data": {
      "text/plain": [
       "'brobrobro'"
      ]
     },
     "execution_count": 3,
     "metadata": {},
     "output_type": "execute_result"
    }
   ],
   "source": [
    "y"
   ]
  },
  {
   "cell_type": "code",
   "execution_count": 1,
   "metadata": {},
   "outputs": [],
   "source": [
    "from pathlib import Path"
   ]
  },
  {
   "cell_type": "code",
   "execution_count": 2,
   "metadata": {},
   "outputs": [],
   "source": [
    "path = \"data/train/\""
   ]
  },
  {
   "cell_type": "code",
   "execution_count": 4,
   "metadata": {},
   "outputs": [],
   "source": [
    "x = [i  for i in Path(path).iterdir()]"
   ]
  },
  {
   "cell_type": "code",
   "execution_count": 6,
   "metadata": {},
   "outputs": [],
   "source": [
    "import pickle"
   ]
  },
  {
   "cell_type": "code",
   "execution_count": 9,
   "metadata": {},
   "outputs": [
    {
     "name": "stdout",
     "output_type": "stream",
     "text": [
      "data.pickle\r\n"
     ]
    }
   ],
   "source": [
    "! ls images/kangaroo/"
   ]
  },
  {
   "cell_type": "code",
   "execution_count": 10,
   "metadata": {},
   "outputs": [],
   "source": [
    "kanagro = pickle.load(open(\"images/kangaroo/data.pickle\", \"rb\"))"
   ]
  },
  {
   "cell_type": "code",
   "execution_count": null,
   "metadata": {},
   "outputs": [],
   "source": []
  },
  {
   "cell_type": "code",
   "execution_count": null,
   "metadata": {},
   "outputs": [],
   "source": []
  }
 ],
 "metadata": {
  "kernelspec": {
   "display_name": "Python 3",
   "language": "python",
   "name": "python3"
  },
  "language_info": {
   "codemirror_mode": {
    "name": "ipython",
    "version": 3
   },
   "file_extension": ".py",
   "mimetype": "text/x-python",
   "name": "python",
   "nbconvert_exporter": "python",
   "pygments_lexer": "ipython3",
   "version": "3.6.4"
  }
 },
 "nbformat": 4,
 "nbformat_minor": 2
}
