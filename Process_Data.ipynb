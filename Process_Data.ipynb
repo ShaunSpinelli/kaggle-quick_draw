{
 "cells": [
  {
   "cell_type": "markdown",
   "metadata": {},
   "source": [
    "Process raw data and prodcue images\n",
    "\n"
   ]
  },
  {
   "cell_type": "code",
   "execution_count": 4,
   "metadata": {},
   "outputs": [],
   "source": [
    "import pandas as pd\n",
    "import numpy as np\n",
    "from matplotlib.pyplot import imshow\n",
    "import numpy as np\n",
    "from PIL import Image, ImageDraw\n",
    "\n",
    "%matplotlib inline"
   ]
  },
  {
   "cell_type": "code",
   "execution_count": null,
   "metadata": {},
   "outputs": [],
   "source": [
    "# code from https://www.kaggle.com/c/quickdraw-doodle-recognition/discussion/67036\n",
    "def draw_it(raw_strokes):\n",
    "    image = Image.new(\"P\", (255,255), color=255)\n",
    "    image_draw = ImageDraw.Draw(image)\n",
    "\n",
    "    for stroke in eval(raw_strokes):\n",
    "        for i in range(len(stroke[0])-1):\n",
    "\n",
    "            image_draw.line([stroke[0][i], \n",
    "                             stroke[1][i],\n",
    "                             stroke[0][i+1], \n",
    "                             stroke[1][i+1]],\n",
    "                            fill=0, width=6)\n",
    "    return np.array(image)"
   ]
  },
  {
   "cell_type": "code",
   "execution_count": 87,
   "metadata": {},
   "outputs": [],
   "source": [
    "ants = pd.read_csv(\"data/train/airplane.csv\")"
   ]
  },
  {
   "cell_type": "code",
   "execution_count": 88,
   "metadata": {
    "scrolled": false
   },
   "outputs": [
    {
     "data": {
      "text/html": [
       "<div>\n",
       "<style scoped>\n",
       "    .dataframe tbody tr th:only-of-type {\n",
       "        vertical-align: middle;\n",
       "    }\n",
       "\n",
       "    .dataframe tbody tr th {\n",
       "        vertical-align: top;\n",
       "    }\n",
       "\n",
       "    .dataframe thead th {\n",
       "        text-align: right;\n",
       "    }\n",
       "</style>\n",
       "<table border=\"1\" class=\"dataframe\">\n",
       "  <thead>\n",
       "    <tr style=\"text-align: right;\">\n",
       "      <th></th>\n",
       "      <th>countrycode</th>\n",
       "      <th>drawing</th>\n",
       "      <th>key_id</th>\n",
       "      <th>recognized</th>\n",
       "      <th>timestamp</th>\n",
       "      <th>word</th>\n",
       "    </tr>\n",
       "  </thead>\n",
       "  <tbody>\n",
       "    <tr>\n",
       "      <th>151618</th>\n",
       "      <td>US</td>\n",
       "      <td>[[[22, 8, 0, 28, 50, 112, 184, 204, 228, 248, ...</td>\n",
       "      <td>5493275190362112</td>\n",
       "      <td>True</td>\n",
       "      <td>2017-03-02 14:53:50.225510</td>\n",
       "      <td>airplane</td>\n",
       "    </tr>\n",
       "    <tr>\n",
       "      <th>151619</th>\n",
       "      <td>PH</td>\n",
       "      <td>[[[0, 18, 38, 75], [92, 68, 56, 55]], [[2, 10,...</td>\n",
       "      <td>4804582200836096</td>\n",
       "      <td>True</td>\n",
       "      <td>2017-03-29 15:40:12.818540</td>\n",
       "      <td>airplane</td>\n",
       "    </tr>\n",
       "    <tr>\n",
       "      <th>151620</th>\n",
       "      <td>IE</td>\n",
       "      <td>[[[87, 39, 24, 5, 0, 4, 21, 45, 93, 177, 194, ...</td>\n",
       "      <td>6511303608762368</td>\n",
       "      <td>True</td>\n",
       "      <td>2017-01-24 21:11:31.576440</td>\n",
       "      <td>airplane</td>\n",
       "    </tr>\n",
       "    <tr>\n",
       "      <th>151621</th>\n",
       "      <td>US</td>\n",
       "      <td>[[[186, 82, 37, 20, 7, 1, 0, 3, 16, 29, 137, 2...</td>\n",
       "      <td>4731074292744192</td>\n",
       "      <td>True</td>\n",
       "      <td>2017-01-25 16:45:20.333770</td>\n",
       "      <td>airplane</td>\n",
       "    </tr>\n",
       "    <tr>\n",
       "      <th>151622</th>\n",
       "      <td>ES</td>\n",
       "      <td>[[[76, 3, 17, 141], [41, 68, 67, 46]], [[76, 1...</td>\n",
       "      <td>6323583485739008</td>\n",
       "      <td>True</td>\n",
       "      <td>2017-03-21 12:04:31.544430</td>\n",
       "      <td>airplane</td>\n",
       "    </tr>\n",
       "  </tbody>\n",
       "</table>\n",
       "</div>"
      ],
      "text/plain": [
       "       countrycode                                            drawing  \\\n",
       "151618          US  [[[22, 8, 0, 28, 50, 112, 184, 204, 228, 248, ...   \n",
       "151619          PH  [[[0, 18, 38, 75], [92, 68, 56, 55]], [[2, 10,...   \n",
       "151620          IE  [[[87, 39, 24, 5, 0, 4, 21, 45, 93, 177, 194, ...   \n",
       "151621          US  [[[186, 82, 37, 20, 7, 1, 0, 3, 16, 29, 137, 2...   \n",
       "151622          ES  [[[76, 3, 17, 141], [41, 68, 67, 46]], [[76, 1...   \n",
       "\n",
       "                  key_id  recognized                   timestamp      word  \n",
       "151618  5493275190362112        True  2017-03-02 14:53:50.225510  airplane  \n",
       "151619  4804582200836096        True  2017-03-29 15:40:12.818540  airplane  \n",
       "151620  6511303608762368        True  2017-01-24 21:11:31.576440  airplane  \n",
       "151621  4731074292744192        True  2017-01-25 16:45:20.333770  airplane  \n",
       "151622  6323583485739008        True  2017-03-21 12:04:31.544430  airplane  "
      ]
     },
     "execution_count": 88,
     "metadata": {},
     "output_type": "execute_result"
    }
   ],
   "source": [
    "ants.tail()"
   ]
  },
  {
   "cell_type": "markdown",
   "metadata": {},
   "source": [
    "probably a good idea to remove or weight images that werent recognized less"
   ]
  },
  {
   "cell_type": "code",
   "execution_count": 89,
   "metadata": {
    "scrolled": true
   },
   "outputs": [
    {
     "data": {
      "text/plain": [
       "0     True\n",
       "1    False\n",
       "2     True\n",
       "3     True\n",
       "4     True\n",
       "Name: recognized, dtype: bool"
      ]
     },
     "execution_count": 89,
     "metadata": {},
     "output_type": "execute_result"
    }
   ],
   "source": [
    "ants.recognized.head()"
   ]
  },
  {
   "cell_type": "code",
   "execution_count": 90,
   "metadata": {
    "scrolled": true
   },
   "outputs": [
    {
     "data": {
      "text/plain": [
       "dtype('O')"
      ]
     },
     "execution_count": 90,
     "metadata": {},
     "output_type": "execute_result"
    }
   ],
   "source": [
    "ants.drawing.dtype"
   ]
  },
  {
   "cell_type": "code",
   "execution_count": 91,
   "metadata": {},
   "outputs": [],
   "source": [
    "# import ast"
   ]
  },
  {
   "cell_type": "code",
   "execution_count": 111,
   "metadata": {},
   "outputs": [],
   "source": [
    "# ant = ast.literal_eval(ants.iloc[1].drawing)"
   ]
  },
  {
   "cell_type": "code",
   "execution_count": 114,
   "metadata": {},
   "outputs": [
    {
     "data": {
      "text/plain": [
       "151623"
      ]
     },
     "execution_count": 114,
     "metadata": {},
     "output_type": "execute_result"
    }
   ],
   "source": [
    "len(ants.index)\n"
   ]
  },
  {
   "cell_type": "code",
   "execution_count": 116,
   "metadata": {},
   "outputs": [],
   "source": [
    "ant = ants.iloc[151622].drawing"
   ]
  },
  {
   "cell_type": "code",
   "execution_count": 106,
   "metadata": {},
   "outputs": [],
   "source": [
    "#test_raw.loc[first_ten_ids, 'drawing'].values"
   ]
  },
  {
   "cell_type": "code",
   "execution_count": 107,
   "metadata": {},
   "outputs": [
    {
     "data": {
      "text/plain": [
       "'[[[102, 63, 14, 2, 0, 9, 29, 51, 100, 142, 181, 203, 216, 213, 197, 177, 152, 114, 106], [90, 85, 85, 90, 108, 124, 139, 149, 154, 145, 144, 134, 121, 114, 104, 101, 89, 81, 83]], [[192, 193, 209, 218], [103, 93, 54, 50]], [[205, 220], [114, 52]], [[201, 198, 220, 243], [139, 142, 167, 174]], [[204, 229, 248, 255], [131, 158, 172, 173]], [[90, 93, 89, 107, 122, 132, 135, 131], [99, 79, 16, 1, 2, 19, 45, 87]], [[94, 92, 95, 101, 115, 121, 129, 130, 128], [151, 181, 192, 203, 217, 211, 182, 158, 157]], [[18, 13, 43, 53, 62, 63, 56, 37, 20], [123, 98, 96, 102, 114, 123, 136, 137, 122]]]'"
      ]
     },
     "execution_count": 107,
     "metadata": {},
     "output_type": "execute_result"
    }
   ],
   "source": [
    "ant"
   ]
  },
  {
   "cell_type": "code",
   "execution_count": null,
   "metadata": {},
   "outputs": [],
   "source": []
  },
  {
   "cell_type": "code",
   "execution_count": 108,
   "metadata": {
    "scrolled": true
   },
   "outputs": [],
   "source": [
    "x = draw_it(ant)"
   ]
  },
  {
   "cell_type": "code",
   "execution_count": 109,
   "metadata": {},
   "outputs": [
    {
     "data": {
      "text/plain": [
       "(255, 255)"
      ]
     },
     "execution_count": 109,
     "metadata": {},
     "output_type": "execute_result"
    }
   ],
   "source": [
    "x.shape"
   ]
  },
  {
   "cell_type": "code",
   "execution_count": 110,
   "metadata": {
    "scrolled": true
   },
   "outputs": [
    {
     "data": {
      "text/plain": [
       "<matplotlib.image.AxesImage at 0x7fc9a4012828>"
      ]
     },
     "execution_count": 110,
     "metadata": {},
     "output_type": "execute_result"
    },
    {
     "data": {
      "image/png": "[encoded data removed]",
      "text/plain": [
       "<matplotlib.figure.Figure at 0x7fc9a4032320>"
      ]
     },
     "metadata": {},
     "output_type": "display_data"
    }
   ],
   "source": [
    "imshow(x)"
   ]
  },
  {
   "cell_type": "code",
   "execution_count": 1,
   "metadata": {},
   "outputs": [],
   "source": [
    "# trn,val = [folder_source(path, o) for o in (trn_name, val_name)]\n",
    "x,y = [ 3* i for i in('hi', 'bro')]\n"
   ]
  },
  {
   "cell_type": "code",
   "execution_count": 2,
   "metadata": {},
   "outputs": [
    {
     "data": {
      "text/plain": [
       "'hihihi'"
      ]
     },
     "execution_count": 2,
     "metadata": {},
     "output_type": "execute_result"
    }
   ],
   "source": []
  },
  {
   "cell_type": "code",
   "execution_count": 3,
   "metadata": {},
   "outputs": [
    {
     "data": {
      "text/plain": [
       "'brobrobro'"
      ]
     },
     "execution_count": 3,
     "metadata": {},
     "output_type": "execute_result"
    }
   ],
   "source": [
    "y"
   ]
  },
  {
   "cell_type": "code",
   "execution_count": 1,
   "metadata": {},
   "outputs": [],
   "source": [
    "from pathlib import Path"
   ]
  },
  {
   "cell_type": "code",
   "execution_count": 2,
   "metadata": {},
   "outputs": [],
   "source": [
    "path = \"data/train/\""
   ]
  },
  {
   "cell_type": "code",
   "execution_count": 4,
   "metadata": {},
   "outputs": [],
   "source": [
    "x = [i  for i in Path(path).iterdir()]"
   ]
  },
  {
   "cell_type": "code",
   "execution_count": 6,
   "metadata": {},
   "outputs": [],
   "source": [
    "import pickle"
   ]
  },
  {
   "cell_type": "code",
   "execution_count": 9,
   "metadata": {},
   "outputs": [
    {
     "name": "stdout",
     "output_type": "stream",
     "text": [
      "data.pickle\r\n"
     ]
    }
   ],
   "source": [
    "! ls images/kangaroo/"
   ]
  },
  {
   "cell_type": "code",
   "execution_count": 10,
   "metadata": {},
   "outputs": [],
   "source": [
    "kanagro = pickle.load(open(\"images/kangaroo/data.pickle\", \"rb\"))"
   ]
  },
  {
   "cell_type": "code",
   "execution_count": null,
   "metadata": {},
   "outputs": [],
   "source": []
  },
  {
   "cell_type": "code",
   "execution_count": null,
   "metadata": {},
   "outputs": [],
   "source": []
  }
 ],
 "metadata": {
  "kernelspec": {
   "display_name": "Python 3",
   "language": "python",
   "name": "python3"
  },
  "language_info": {
   "codemirror_mode": {
    "name": "ipython",
    "version": 3
   },
   "file_extension": ".py",
   "mimetype": "text/x-python",
   "name": "python",
   "nbconvert_exporter": "python",
   "pygments_lexer": "ipython3",
   "version": "3.6.4"
  }
 },
 "nbformat": 4,
 "nbformat_minor": 2
}
